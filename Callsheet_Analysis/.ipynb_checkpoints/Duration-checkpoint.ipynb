{
 "cells": [
  {
   "cell_type": "markdown",
   "metadata": {},
   "source": [
    "## Callsheet Duration Analysis\n",
    "\n",
    "* Comparison of Total Duration of Callsheets\n",
    "* Comparison of Days Callsheets are With APT\n",
    "* The Relationship Between Total Hours Worked and Duration\n",
    "* The Relationship Between Total Hours Worked and Days With APT\n",
    "* The relationship Between Duration and Profitablitiy on Chargeable Callsheets\n"
   ]
  },
  {
   "cell_type": "code",
   "execution_count": 1,
   "metadata": {
    "collapsed": false
   },
   "outputs": [],
   "source": [
    "# Standard Imports\n",
    "import numpy as np\n",
    "import pandas as pd"
   ]
  },
  {
   "cell_type": "code",
   "execution_count": 2,
   "metadata": {
    "collapsed": false
   },
   "outputs": [],
   "source": [
    "# Stats Imports\n",
    "from scipy import stats"
   ]
  },
  {
   "cell_type": "code",
   "execution_count": 3,
   "metadata": {
    "collapsed": false
   },
   "outputs": [],
   "source": [
    "# Plotting\n",
    "import matplotlib as mpl\n",
    "import matplotlib.pyplot as plt\n",
    "import seaborn as sns"
   ]
  },
  {
   "cell_type": "code",
   "execution_count": 4,
   "metadata": {
    "collapsed": false
   },
   "outputs": [],
   "source": [
    "%matplotlib inline"
   ]
  },
  {
   "cell_type": "markdown",
   "metadata": {},
   "source": [
    "Next we need to import the raw data. Below is a sample of data imported."
   ]
  },
  {
   "cell_type": "code",
   "execution_count": 5,
   "metadata": {
    "collapsed": false,
    "format": "tab"
   },
   "outputs": [
    {
     "data": {
      "text/html": [
       "<div>\n",
       "<table border=\"1\" class=\"dataframe\">\n",
       "  <thead>\n",
       "    <tr style=\"text-align: right;\">\n",
       "      <th></th>\n",
       "      <th>Call No</th>\n",
       "      <th>Taken Date</th>\n",
       "      <th>Closed Date</th>\n",
       "      <th>Days With APT</th>\n",
       "      <th>Days With Customer</th>\n",
       "      <th>Total Days</th>\n",
       "      <th>Chargeable</th>\n",
       "      <th>Project Work</th>\n",
       "      <th>Quote Time</th>\n",
       "      <th>Time Hours Estimated</th>\n",
       "      <th>Time Hours Total</th>\n",
       "    </tr>\n",
       "  </thead>\n",
       "  <tbody>\n",
       "    <tr>\n",
       "      <th>2976</th>\n",
       "      <td>158156</td>\n",
       "      <td>31 Dec 2012</td>\n",
       "      <td>10 Sep 2014</td>\n",
       "      <td>364</td>\n",
       "      <td>78</td>\n",
       "      <td>442</td>\n",
       "      <td>N</td>\n",
       "      <td>N</td>\n",
       "      <td>0</td>\n",
       "      <td>0</td>\n",
       "      <td>4.57</td>\n",
       "    </tr>\n",
       "    <tr>\n",
       "      <th>2977</th>\n",
       "      <td>158234</td>\n",
       "      <td>8 Jan 2013</td>\n",
       "      <td>22 May 2014</td>\n",
       "      <td>355</td>\n",
       "      <td>2</td>\n",
       "      <td>357</td>\n",
       "      <td>N</td>\n",
       "      <td>NaN</td>\n",
       "      <td>0</td>\n",
       "      <td>0</td>\n",
       "      <td>5.46</td>\n",
       "    </tr>\n",
       "  </tbody>\n",
       "</table>\n",
       "</div>"
      ],
      "text/plain": [
       "      Call No   Taken Date  Closed Date  Days With APT  Days With Customer  \\\n",
       "2976   158156  31 Dec 2012  10 Sep 2014            364                  78   \n",
       "2977   158234   8 Jan 2013  22 May 2014            355                   2   \n",
       "\n",
       "      Total Days Chargeable Project Work  Quote Time  Time Hours Estimated  \\\n",
       "2976         442          N            N           0                     0   \n",
       "2977         357          N          NaN           0                     0   \n",
       "\n",
       "      Time Hours Total  \n",
       "2976              4.57  \n",
       "2977              5.46  "
      ]
     },
     "execution_count": 5,
     "metadata": {},
     "output_type": "execute_result"
    }
   ],
   "source": [
    "df_2014 = pd.read_csv('data/Callsheet Detail - 2014.csv')\n",
    "df_2015 = pd.read_csv('data/Callsheet Detail - 2015.csv')\n",
    "df_2016 = pd.read_csv('data/Callsheet Detail - 2016.csv')\n",
    "df_2014.tail(2)"
   ]
  },
  {
   "cell_type": "markdown",
   "metadata": {},
   "source": [
    "We are only interested in the non project data so we will filter our data frame to only include project data and slice an array containing the days with apt and an array with the total days open for each year."
   ]
  },
  {
   "cell_type": "code",
   "execution_count": 6,
   "metadata": {
    "collapsed": false,
    "format": "tab"
   },
   "outputs": [],
   "source": [
    "df_2014 = df_2014[df_2014['Project Work'] != 'Y']\n",
    "days_with_apt_2014 = df_2014['Days With APT']\n",
    "days_total_2014 = df_2014['Total Days']\n",
    "\n",
    "df_2015 = df_2015[df_2015['Project Work'] != 'Y']\n",
    "days_with_apt_2015 = df_2015['Days With APT']\n",
    "days_total_2015 = df_2015['Total Days']\n",
    "\n",
    "df_2016 = df_2016[df_2016['Project Work'] != 'Y']\n",
    "days_with_apt_2016 = df_2016['Days With APT']\n",
    "days_total_2016 = df_2016['Total Days']"
   ]
  },
  {
   "cell_type": "code",
   "execution_count": 10,
   "metadata": {
    "collapsed": false,
    "format": "tab"
   },
   "outputs": [
    {
     "data": {
      "image/png": "[encoded data removed]",
      "text/plain": [
       "<matplotlib.figure.Figure at 0x1a4a1b9ac88>"
      ]
     },
     "metadata": {},
     "output_type": "display_data"
    }
   ],
   "source": [
    "ax = days_with_apt_2015.plot(kind='hist' , figsize=(12, 4), bins=50, color = 'green');\n",
    "ax.set_title('2015');\n"
   ]
  },
  {
   "cell_type": "code",
   "execution_count": 8,
   "metadata": {
    "collapsed": false,
    "format": "tab"
   },
   "outputs": [
    {
     "ename": "NameError",
     "evalue": "name 'dtl_2016_df' is not defined",
     "output_type": "error",
     "traceback": [
      "\u001b[1;31m---------------------------------------------------------------------------\u001b[0m",
      "\u001b[1;31mNameError\u001b[0m                                 Traceback (most recent call last)",
      "\u001b[1;32m<ipython-input-8-92410bfb69df>\u001b[0m in \u001b[0;36m<module>\u001b[1;34m()\u001b[0m\n\u001b[1;32m----> 1\u001b[1;33m \u001b[0mcs_dtl_2016_df\u001b[0m \u001b[1;33m=\u001b[0m \u001b[0mdtl_2016_df\u001b[0m\u001b[1;33m[\u001b[0m\u001b[0mdtl_2016_df\u001b[0m\u001b[1;33m[\u001b[0m\u001b[1;34m'Project Work'\u001b[0m\u001b[1;33m]\u001b[0m \u001b[1;33m!=\u001b[0m \u001b[1;34m'Y'\u001b[0m\u001b[1;33m]\u001b[0m\u001b[1;33m\u001b[0m\u001b[0m\n\u001b[0m\u001b[0;32m      2\u001b[0m \u001b[1;31m# cs_dtl_2015_df = cs_dtl_2015_df[cs_dtl_2015_df['Days With APT'] >= 0] # fix as there where some -1 values\u001b[0m\u001b[1;33m\u001b[0m\u001b[1;33m\u001b[0m\u001b[0m\n\u001b[0;32m      3\u001b[0m \u001b[0mcs_days_with_apt_2016\u001b[0m \u001b[1;33m=\u001b[0m \u001b[0mcs_dtl_2016_df\u001b[0m\u001b[1;33m[\u001b[0m\u001b[1;34m'Total Days'\u001b[0m\u001b[1;33m]\u001b[0m\u001b[1;33m\u001b[0m\u001b[0m\n\u001b[0;32m      4\u001b[0m \u001b[0max\u001b[0m \u001b[1;33m=\u001b[0m \u001b[0mcs_days_with_apt_2016\u001b[0m\u001b[1;33m.\u001b[0m\u001b[0mplot\u001b[0m\u001b[1;33m(\u001b[0m\u001b[0mkind\u001b[0m\u001b[1;33m=\u001b[0m\u001b[1;34m'hist'\u001b[0m \u001b[1;33m,\u001b[0m \u001b[0mfigsize\u001b[0m\u001b[1;33m=\u001b[0m\u001b[1;33m(\u001b[0m\u001b[1;36m12\u001b[0m\u001b[1;33m,\u001b[0m \u001b[1;36m4\u001b[0m\u001b[1;33m)\u001b[0m\u001b[1;33m,\u001b[0m \u001b[0mbins\u001b[0m\u001b[1;33m=\u001b[0m\u001b[1;36m50\u001b[0m\u001b[1;33m,\u001b[0m \u001b[0mcolor\u001b[0m \u001b[1;33m=\u001b[0m \u001b[1;34m'red'\u001b[0m\u001b[1;33m)\u001b[0m\u001b[1;33m;\u001b[0m\u001b[1;33m\u001b[0m\u001b[0m\n\u001b[0;32m      5\u001b[0m \u001b[0max\u001b[0m\u001b[1;33m.\u001b[0m\u001b[0mset_title\u001b[0m\u001b[1;33m(\u001b[0m\u001b[1;34m'2016'\u001b[0m\u001b[1;33m)\u001b[0m\u001b[1;33m;\u001b[0m\u001b[1;33m\u001b[0m\u001b[0m\n",
      "\u001b[1;31mNameError\u001b[0m: name 'dtl_2016_df' is not defined"
     ]
    }
   ],
   "source": [
    "cs_dtl_2016_df = dtl_2016_df[dtl_2016_df['Project Work'] != 'Y']\n",
    "# cs_dtl_2015_df = cs_dtl_2015_df[cs_dtl_2015_df['Days With APT'] >= 0] # fix as there where some -1 values\n",
    "cs_days_with_apt_2016 = cs_dtl_2016_df['Total Days']\n",
    "ax = cs_days_with_apt_2016.plot(kind='hist' , figsize=(12, 4), bins=50, color = 'red');\n",
    "ax.set_title('2016');"
   ]
  },
  {
   "cell_type": "markdown",
   "metadata": {},
   "source": [
    "We can see that we are completing the vast number of callsheets in a shorth amount in every calendar year, with some horrible outliers that will need investigation. This only gives us a general sense though, we have differing numbers of datapoints and the scales of these histograms is different. The next step is to overlay them and see if we can see anything that will tell us anything about our performance. For clarity we will remove any extreme outliers and normalize the data to account for the differences in data points."
   ]
  },
  {
   "cell_type": "code",
   "execution_count": 9,
   "metadata": {
    "collapsed": false,
    "format": "tab",
    "scrolled": false
   },
   "outputs": [
    {
     "data": {
      "image/png": "[encoded data removed]",
      "text/plain": [
       "<matplotlib.figure.Figure at 0x1a4a1bb2080>"
      ]
     },
     "metadata": {},
     "output_type": "display_data"
    }
   ],
   "source": [
    "plt.figure(figsize=(18, 8));\n",
    "binBoundaries = np.linspace(0,600,100)\n",
    "plt.hist(days_with_apt_2014, color='blue' , normed = True , alpha = 0.2 ,bins = binBoundaries);\n",
    "plt.hist(days_with_apt_2015, color='green' , normed = True , alpha = 0.5 ,bins = binBoundaries);\n",
    "\n"
   ]
  },
  {
   "cell_type": "markdown",
   "metadata": {},
   "source": [
    "The above data compares 2014 and 2015, it suggests that there was a greater density of callsheets completed after only being with APT a few days in 2014, and you can see more calls in 2015 creeping on for a very long amount of time. This suggests we were deterioating in the service we were providing."
   ]
  },
  {
   "cell_type": "code",
   "execution_count": null,
   "metadata": {
    "collapsed": false,
    "format": "tab"
   },
   "outputs": [],
   "source": [
    "plt.figure(figsize=(18, 8));\n",
    "plt.hist(days_with_apt_2015, color='green' , normed = True , alpha = 0.5 ,bins = binBoundaries);\n",
    "plt.hist(days_with_apt_2016, color='red' , normed = True , alpha = 0.5 ,bins = binBoundaries);\n"
   ]
  },
  {
   "cell_type": "markdown",
   "metadata": {},
   "source": [
    "However in the comparison between 2016 and 2015 it looks like we have corrcted this issue, we are tackling even more calls in those first few days. However there are still some high densities in the mid-term. This looks positive, however it is early in the year the sample size is small and all of this relates to *closed* calls. There could be a lot of open calls sat with us, that we close over the coming months that skew this. The data may suggest we are dealing with simple callsheets quickly but more complex callsheets are lingering longer than before."
   ]
  }
 ],
 "metadata": {
  "kernelspec": {
   "display_name": "Python 3",
   "language": "python",
   "name": "python3"
  },
  "language_info": {
   "codemirror_mode": {
    "name": "ipython",
    "version": 3
   },
   "file_extension": ".py",
   "mimetype": "text/x-python",
   "name": "python",
   "nbconvert_exporter": "python",
   "pygments_lexer": "ipython3",
   "version": "3.5.1"
  }
 },
 "nbformat": 4,
 "nbformat_minor": 0
}
