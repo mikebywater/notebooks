{
 "cells": [
  {
   "cell_type": "markdown",
   "metadata": {},
   "source": [
    "### Introduction\n",
    "We have recently discussed the need to try and measure both production and efficency within the delivery team. The challenge is to try come up with a metric that we can use to determine if we are doing a better job of delivering work.\n",
    "\n",
    "### Method\n",
    "\n",
    "This document is a python notebook I have created so that we can do some statistical analysis on a dataset from the callsheet system and try to find a reasonable metric to quantify production and efficiency.\n",
    "\n",
    "The challenge is that we are changing how we approach so many things, we are changing all obvious metrics at once. For example, if we had maintained our pricing methodology, it would be easy to define greater production merely by comparing the amount of money chargeable work has brought in. We could use the price to estimate work effort, more money would suggest a bigger job.\n",
    "\n",
    "We cannot really just look at total time logged as of course this will just go up with the new staff hired, it does not necessarily mean that they produced more useful work in that time period. \n",
    "\n",
    "With that in mind I have extracted 2 base reports from informer which I have ran for 3 seperate years (2014, 2015 and 2016) one of which is a detailed dataset of all of the callsheets and the other is aggregated data.\n",
    "\n",
    "### Production\n",
    "\n",
    "The simplest starting point is perhaps to just bring in some aggregated data for the 3 years in question and see some crude data for basic comparison. First lets import some libraries to help us work with this data."
   ]
  },
  {
   "cell_type": "code",
   "execution_count": 60,
   "metadata": {
    "collapsed": true
   },
   "outputs": [],
   "source": [
    "# Standard Imports\n",
    "import numpy as np\n",
    "import pandas as pd"
   ]
  },
  {
   "cell_type": "code",
   "execution_count": 61,
   "metadata": {
    "collapsed": true
   },
   "outputs": [],
   "source": [
    "# Stats Imports\n",
    "from scipy import stats"
   ]
  },
  {
   "cell_type": "code",
   "execution_count": 62,
   "metadata": {
    "collapsed": true
   },
   "outputs": [],
   "source": [
    "# Plotting\n",
    "import matplotlib as mpl\n",
    "import matplotlib.pyplot as plt\n",
    "import seaborn as sns"
   ]
  },
  {
   "cell_type": "code",
   "execution_count": 63,
   "metadata": {
    "collapsed": true
   },
   "outputs": [],
   "source": [
    "%matplotlib inline"
   ]
  },
  {
   "cell_type": "code",
   "execution_count": 64,
   "metadata": {
    "collapsed": false
   },
   "outputs": [
    {
     "ename": "SyntaxError",
     "evalue": "invalid syntax (<ipython-input-64-40f6b6b9fe87>, line 1)",
     "output_type": "error",
     "traceback": [
      "\u001b[1;36m  File \u001b[1;32m\"<ipython-input-64-40f6b6b9fe87>\"\u001b[1;36m, line \u001b[1;32m1\u001b[0m\n\u001b[1;33m    Next lets read in our first 3 datasets, the 2014 2015 and 2015 aggreagated data (by month)\u001b[0m\n\u001b[1;37m            ^\u001b[0m\n\u001b[1;31mSyntaxError\u001b[0m\u001b[1;31m:\u001b[0m invalid syntax\n"
     ]
    }
   ],
   "source": [
    "Next lets read in our first 3 datasets, the 2014 2015 and 2015 aggreagated data (by month)"
   ]
  },
  {
   "cell_type": "code",
   "execution_count": 65,
   "metadata": {
    "collapsed": false
   },
   "outputs": [
    {
     "data": {
      "text/html": [
       "<div>\n",
       "<table border=\"1\" class=\"dataframe\">\n",
       "  <thead>\n",
       "    <tr style=\"text-align: right;\">\n",
       "      <th></th>\n",
       "      <th>Product Code</th>\n",
       "      <th>Call No</th>\n",
       "      <th>Closed Date</th>\n",
       "      <th>Chargeable</th>\n",
       "      <th>Days With APT</th>\n",
       "      <th>Project Work</th>\n",
       "    </tr>\n",
       "  </thead>\n",
       "  <tbody>\n",
       "    <tr>\n",
       "      <th>4244</th>\n",
       "      <td>SPECTRUM</td>\n",
       "      <td>151854</td>\n",
       "      <td>7 Jan 2015</td>\n",
       "      <td>R</td>\n",
       "      <td>857</td>\n",
       "      <td>N</td>\n",
       "    </tr>\n",
       "    <tr>\n",
       "      <th>4245</th>\n",
       "      <td>MS</td>\n",
       "      <td>151785</td>\n",
       "      <td>11 Feb 2015</td>\n",
       "      <td>R</td>\n",
       "      <td>885</td>\n",
       "      <td>Y</td>\n",
       "    </tr>\n",
       "    <tr>\n",
       "      <th>4246</th>\n",
       "      <td>MS</td>\n",
       "      <td>151783</td>\n",
       "      <td>15 Sep 2015</td>\n",
       "      <td>Y</td>\n",
       "      <td>893</td>\n",
       "      <td>Y</td>\n",
       "    </tr>\n",
       "    <tr>\n",
       "      <th>4247</th>\n",
       "      <td>MS</td>\n",
       "      <td>153310</td>\n",
       "      <td>21 Jul 2015</td>\n",
       "      <td>N</td>\n",
       "      <td>921</td>\n",
       "      <td>N</td>\n",
       "    </tr>\n",
       "    <tr>\n",
       "      <th>4248</th>\n",
       "      <td>MS.WEB</td>\n",
       "      <td>149090</td>\n",
       "      <td>7 Jan 2015</td>\n",
       "      <td>U</td>\n",
       "      <td>923</td>\n",
       "      <td>Y</td>\n",
       "    </tr>\n",
       "    <tr>\n",
       "      <th>4249</th>\n",
       "      <td>MS</td>\n",
       "      <td>149743</td>\n",
       "      <td>13 Feb 2015</td>\n",
       "      <td>U</td>\n",
       "      <td>923</td>\n",
       "      <td>Y</td>\n",
       "    </tr>\n",
       "    <tr>\n",
       "      <th>4250</th>\n",
       "      <td>ISM</td>\n",
       "      <td>148203</td>\n",
       "      <td>27 Mar 2015</td>\n",
       "      <td>N</td>\n",
       "      <td>1011</td>\n",
       "      <td>N</td>\n",
       "    </tr>\n",
       "    <tr>\n",
       "      <th>4251</th>\n",
       "      <td>MS</td>\n",
       "      <td>147164</td>\n",
       "      <td>11 Jun 2015</td>\n",
       "      <td>N</td>\n",
       "      <td>1111</td>\n",
       "      <td>N</td>\n",
       "    </tr>\n",
       "    <tr>\n",
       "      <th>4252</th>\n",
       "      <td>MS</td>\n",
       "      <td>147792</td>\n",
       "      <td>26 Nov 2015</td>\n",
       "      <td>U</td>\n",
       "      <td>1205</td>\n",
       "      <td>Y</td>\n",
       "    </tr>\n",
       "    <tr>\n",
       "      <th>4253</th>\n",
       "      <td>MS</td>\n",
       "      <td>134241</td>\n",
       "      <td>11 Jun 2015</td>\n",
       "      <td>U</td>\n",
       "      <td>1549</td>\n",
       "      <td>NaN</td>\n",
       "    </tr>\n",
       "  </tbody>\n",
       "</table>\n",
       "</div>"
      ],
      "text/plain": [
       "     Product Code  Call No  Closed Date Chargeable  Days With APT Project Work\n",
       "4244     SPECTRUM   151854   7 Jan 2015          R            857            N\n",
       "4245           MS   151785  11 Feb 2015          R            885            Y\n",
       "4246           MS   151783  15 Sep 2015          Y            893            Y\n",
       "4247           MS   153310  21 Jul 2015          N            921            N\n",
       "4248       MS.WEB   149090   7 Jan 2015          U            923            Y\n",
       "4249           MS   149743  13 Feb 2015          U            923            Y\n",
       "4250          ISM   148203  27 Mar 2015          N           1011            N\n",
       "4251           MS   147164  11 Jun 2015          N           1111            N\n",
       "4252           MS   147792  26 Nov 2015          U           1205            Y\n",
       "4253           MS   134241  11 Jun 2015          U           1549          NaN"
      ]
     },
     "execution_count": 65,
     "metadata": {},
     "output_type": "execute_result"
    }
   ],
   "source": [
    "dframe = pd.read_csv('Callsheet Open Time.csv')\n",
    "dframe.tail(10)"
   ]
  },
  {
   "cell_type": "code",
   "execution_count": 66,
   "metadata": {
    "collapsed": false
   },
   "outputs": [
    {
     "data": {
      "text/plain": [
       "(array([  3.85300000e+03,   1.11000000e+02,   3.60000000e+01,\n",
       "          1.20000000e+01,   1.20000000e+01,   2.00000000e+00,\n",
       "          1.00000000e+00,   1.00000000e+00,   0.00000000e+00,\n",
       "          1.00000000e+00]),\n",
       " array([ -1.00000000e+00,   1.54000000e+02,   3.09000000e+02,\n",
       "          4.64000000e+02,   6.19000000e+02,   7.74000000e+02,\n",
       "          9.29000000e+02,   1.08400000e+03,   1.23900000e+03,\n",
       "          1.39400000e+03,   1.54900000e+03]),\n",
       " <a list of 10 Patch objects>)"
      ]
     },
     "execution_count": 66,
     "metadata": {},
     "output_type": "execute_result"
    },
    {
     "data": {
      "image/png": "[encoded data removed]",
      "text/plain": [
       "<matplotlib.figure.Figure at 0x22ece2cc7f0>"
      ]
     },
     "metadata": {},
     "output_type": "display_data"
    }
   ],
   "source": [
    "callsheets = dframe[dframe['Project Work'] != 'Y']\n",
    "cs_days_with_apt = callsheets['Days With APT']\n",
    "plt.hist(cs_days_with_apt,bins=10)\n"
   ]
  },
  {
   "cell_type": "code",
   "execution_count": 67,
   "metadata": {
    "collapsed": false
   },
   "outputs": [
    {
     "data": {
      "text/plain": [
       "(array([ 130.,   37.,   17.,   17.,   12.,    5.,    2.,    4.,    0.,    1.]),\n",
       " array([    0. ,   120.5,   241. ,   361.5,   482. ,   602.5,   723. ,\n",
       "          843.5,   964. ,  1084.5,  1205. ]),\n",
       " <a list of 10 Patch objects>)"
      ]
     },
     "execution_count": 67,
     "metadata": {},
     "output_type": "execute_result"
    },
    {
     "data": {
      "image/png": "[encoded data removed]",
      "text/plain": [
       "<matplotlib.figure.Figure at 0x22ece7371d0>"
      ]
     },
     "metadata": {},
     "output_type": "display_data"
    }
   ],
   "source": [
    "projects = dframe[dframe['Project Work'] == 'Y']\n",
    "pr_days_with_apt = projects['Days With APT']\n",
    "plt.hist(pr_days_with_apt,bins=10)\n"
   ]
  }
 ],
 "metadata": {
  "kernelspec": {
   "display_name": "Python 3",
   "language": "python",
   "name": "python3"
  },
  "language_info": {
   "codemirror_mode": {
    "name": "ipython",
    "version": 3
   },
   "file_extension": ".py",
   "mimetype": "text/x-python",
   "name": "python",
   "nbconvert_exporter": "python",
   "pygments_lexer": "ipython3",
   "version": "3.5.1"
  }
 },
 "nbformat": 4,
 "nbformat_minor": 0
}
