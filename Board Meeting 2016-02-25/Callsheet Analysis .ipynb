{
 "cells": [
  {
   "cell_type": "markdown",
   "metadata": {},
   "source": [
    "### Introduction\n",
    "We have recently discussed the need to try and measure both production and efficency within the delivery team. The challenge is to try come up with a metric that we can use to determine if we are doing a better job of delivering work.\n",
    "\n",
    "### Method\n",
    "\n",
    "This document is a python notebook I have created so that we can do some statistical analysis on a dataset from the callsheet system and try to find a reasonable metric to quantify production and efficiency.\n",
    "\n",
    "The challenge is that we are changing how we approach so many things, we are changing all obvious metrics at once. For example, if we had maintained our pricing methodology, it would be easy to define greater production merely by comparing the amount of money chargeable work has brought in. We could use the price to estimate work effort, more money would suggest a bigger job.\n",
    "\n",
    "We cannot really just look at total time logged as of course this will just go up with the new staff hired, it does not necessarily mean that they produced more useful work in that time period. \n",
    "\n",
    "With that in mind I have extracted 2 base reports from informer which I have ran for 3 seperate years (2014, 2015 and 2016) one of which is a detailed dataset of all of the callsheets and the other is aggregated data.\n",
    "\n",
    "### Production\n",
    "\n",
    "The simplest starting point is perhaps to just bring in some aggregated data for the 3 years in question and see some crude data for basic comparison. First lets import some libraries to help us work with this data."
   ]
  },
  {
   "cell_type": "code",
   "execution_count": 68,
   "metadata": {
    "collapsed": true
   },
   "outputs": [],
   "source": [
    "# Standard Imports\n",
    "import numpy as np\n",
    "import pandas as pd"
   ]
  },
  {
   "cell_type": "code",
   "execution_count": 69,
   "metadata": {
    "collapsed": true
   },
   "outputs": [],
   "source": [
    "# Stats Imports\n",
    "from scipy import stats"
   ]
  },
  {
   "cell_type": "code",
   "execution_count": 70,
   "metadata": {
    "collapsed": true
   },
   "outputs": [],
   "source": [
    "# Plotting\n",
    "import matplotlib as mpl\n",
    "import matplotlib.pyplot as plt\n",
    "import seaborn as sns"
   ]
  },
  {
   "cell_type": "code",
   "execution_count": 71,
   "metadata": {
    "collapsed": true
   },
   "outputs": [],
   "source": [
    "%matplotlib inline"
   ]
  },
  {
   "cell_type": "markdown",
   "metadata": {},
   "source": [
    "Next lets read in our first 3 datasets, the 2014 2015 and 2015 aggreagated data (by month) from some csv files create in informer. This data focuses just on stratum callsheet work. It excludes project callsheets as the majority are for milestone or money tracking only. Analysis of project work will be done later."
   ]
  },
  {
   "cell_type": "code",
   "execution_count": 76,
   "metadata": {
    "collapsed": false
   },
   "outputs": [],
   "source": [
    "cs_agg_2014_df = pd.read_csv('Callsheet Aggregates - 2014.csv')\n",
    "cs_agg_2015_df = pd.read_csv('Callsheet Aggregates - 2015.csv')\n",
    "cs_agg_2016_df = pd.read_csv('Callsheet Aggregates - 2016.csv')"
   ]
  },
  {
   "cell_type": "markdown",
   "metadata": {},
   "source": [
    "Now lets see an example of the aggregated data for 2014 in tabular format."
   ]
  },
  {
   "cell_type": "code",
   "execution_count": 77,
   "metadata": {
    "collapsed": false
   },
   "outputs": [
    {
     "data": {
      "text/html": [
       "<div>\n",
       "<table border=\"1\" class=\"dataframe\">\n",
       "  <thead>\n",
       "    <tr style=\"text-align: right;\">\n",
       "      <th></th>\n",
       "      <th>Closed Month</th>\n",
       "      <th>Time Hours Total (Total)</th>\n",
       "      <th>Time Hours Estimated (Total)</th>\n",
       "      <th>Quote Time (Total)</th>\n",
       "      <th>Count</th>\n",
       "    </tr>\n",
       "  </thead>\n",
       "  <tbody>\n",
       "    <tr>\n",
       "      <th>0</th>\n",
       "      <td>1</td>\n",
       "      <td>498.48</td>\n",
       "      <td>1</td>\n",
       "      <td>152</td>\n",
       "      <td>204</td>\n",
       "    </tr>\n",
       "    <tr>\n",
       "      <th>1</th>\n",
       "      <td>2</td>\n",
       "      <td>578.73</td>\n",
       "      <td>0</td>\n",
       "      <td>160</td>\n",
       "      <td>179</td>\n",
       "    </tr>\n",
       "    <tr>\n",
       "      <th>2</th>\n",
       "      <td>3</td>\n",
       "      <td>303.19</td>\n",
       "      <td>0</td>\n",
       "      <td>55</td>\n",
       "      <td>157</td>\n",
       "    </tr>\n",
       "    <tr>\n",
       "      <th>3</th>\n",
       "      <td>4</td>\n",
       "      <td>243.26</td>\n",
       "      <td>0</td>\n",
       "      <td>95</td>\n",
       "      <td>139</td>\n",
       "    </tr>\n",
       "    <tr>\n",
       "      <th>4</th>\n",
       "      <td>5</td>\n",
       "      <td>368.58</td>\n",
       "      <td>0</td>\n",
       "      <td>135</td>\n",
       "      <td>172</td>\n",
       "    </tr>\n",
       "    <tr>\n",
       "      <th>5</th>\n",
       "      <td>6</td>\n",
       "      <td>437.10</td>\n",
       "      <td>0</td>\n",
       "      <td>155</td>\n",
       "      <td>138</td>\n",
       "    </tr>\n",
       "    <tr>\n",
       "      <th>6</th>\n",
       "      <td>7</td>\n",
       "      <td>1011.67</td>\n",
       "      <td>0</td>\n",
       "      <td>81</td>\n",
       "      <td>138</td>\n",
       "    </tr>\n",
       "    <tr>\n",
       "      <th>7</th>\n",
       "      <td>8</td>\n",
       "      <td>216.22</td>\n",
       "      <td>0</td>\n",
       "      <td>53</td>\n",
       "      <td>184</td>\n",
       "    </tr>\n",
       "    <tr>\n",
       "      <th>8</th>\n",
       "      <td>9</td>\n",
       "      <td>261.65</td>\n",
       "      <td>0</td>\n",
       "      <td>260</td>\n",
       "      <td>184</td>\n",
       "    </tr>\n",
       "    <tr>\n",
       "      <th>9</th>\n",
       "      <td>10</td>\n",
       "      <td>1086.54</td>\n",
       "      <td>0</td>\n",
       "      <td>161</td>\n",
       "      <td>175</td>\n",
       "    </tr>\n",
       "    <tr>\n",
       "      <th>10</th>\n",
       "      <td>11</td>\n",
       "      <td>130.74</td>\n",
       "      <td>1</td>\n",
       "      <td>39</td>\n",
       "      <td>128</td>\n",
       "    </tr>\n",
       "    <tr>\n",
       "      <th>11</th>\n",
       "      <td>12</td>\n",
       "      <td>268.29</td>\n",
       "      <td>2</td>\n",
       "      <td>48</td>\n",
       "      <td>122</td>\n",
       "    </tr>\n",
       "  </tbody>\n",
       "</table>\n",
       "</div>"
      ],
      "text/plain": [
       "    Closed Month   Time Hours Total (Total)  Time Hours Estimated (Total)  \\\n",
       "0               1                    498.48                             1   \n",
       "1               2                    578.73                             0   \n",
       "2               3                    303.19                             0   \n",
       "3               4                    243.26                             0   \n",
       "4               5                    368.58                             0   \n",
       "5               6                    437.10                             0   \n",
       "6               7                   1011.67                             0   \n",
       "7               8                    216.22                             0   \n",
       "8               9                    261.65                             0   \n",
       "9              10                   1086.54                             0   \n",
       "10             11                    130.74                             1   \n",
       "11             12                    268.29                             2   \n",
       "\n",
       "    Quote Time (Total)  Count  \n",
       "0                  152    204  \n",
       "1                  160    179  \n",
       "2                   55    157  \n",
       "3                   95    139  \n",
       "4                  135    172  \n",
       "5                  155    138  \n",
       "6                   81    138  \n",
       "7                   53    184  \n",
       "8                  260    184  \n",
       "9                  161    175  \n",
       "10                  39    128  \n",
       "11                  48    122  "
      ]
     },
     "execution_count": 77,
     "metadata": {},
     "output_type": "execute_result"
    }
   ],
   "source": [
    "cs_agg_2014_df"
   ]
  },
  {
   "cell_type": "code",
   "execution_count": null,
   "metadata": {
    "collapsed": true
   },
   "outputs": [],
   "source": []
  },
  {
   "cell_type": "markdown",
   "metadata": {},
   "source": [
    "### Efficiency"
   ]
  },
  {
   "cell_type": "code",
   "execution_count": null,
   "metadata": {
    "collapsed": true
   },
   "outputs": [],
   "source": [
    "dframe = pd.read_csv('Callsheet Open Time.csv')\n",
    "dframe.tail(10)"
   ]
  },
  {
   "cell_type": "code",
   "execution_count": 73,
   "metadata": {
    "collapsed": false
   },
   "outputs": [
    {
     "data": {
      "text/plain": [
       "(array([  3.85300000e+03,   1.11000000e+02,   3.60000000e+01,\n",
       "          1.20000000e+01,   1.20000000e+01,   2.00000000e+00,\n",
       "          1.00000000e+00,   1.00000000e+00,   0.00000000e+00,\n",
       "          1.00000000e+00]),\n",
       " array([ -1.00000000e+00,   1.54000000e+02,   3.09000000e+02,\n",
       "          4.64000000e+02,   6.19000000e+02,   7.74000000e+02,\n",
       "          9.29000000e+02,   1.08400000e+03,   1.23900000e+03,\n",
       "          1.39400000e+03,   1.54900000e+03]),\n",
       " <a list of 10 Patch objects>)"
      ]
     },
     "execution_count": 73,
     "metadata": {},
     "output_type": "execute_result"
    },
    {
     "data": {
      "image/png": "[encoded data removed]",
      "text/plain": [
       "<matplotlib.figure.Figure at 0x22ece7d7438>"
      ]
     },
     "metadata": {},
     "output_type": "display_data"
    }
   ],
   "source": [
    "callsheets = dframe[dframe['Project Work'] != 'Y']\n",
    "cs_days_with_apt = callsheets['Days With APT']\n",
    "plt.hist(cs_days_with_apt,bins=10)\n"
   ]
  },
  {
   "cell_type": "code",
   "execution_count": 74,
   "metadata": {
    "collapsed": false
   },
   "outputs": [
    {
     "data": {
      "text/plain": [
       "(array([ 130.,   37.,   17.,   17.,   12.,    5.,    2.,    4.,    0.,    1.]),\n",
       " array([    0. ,   120.5,   241. ,   361.5,   482. ,   602.5,   723. ,\n",
       "          843.5,   964. ,  1084.5,  1205. ]),\n",
       " <a list of 10 Patch objects>)"
      ]
     },
     "execution_count": 74,
     "metadata": {},
     "output_type": "execute_result"
    },
    {
     "data": {
      "image/png": "[encoded data removed]",
      "text/plain": [
       "<matplotlib.figure.Figure at 0x22ece737198>"
      ]
     },
     "metadata": {},
     "output_type": "display_data"
    }
   ],
   "source": [
    "projects = dframe[dframe['Project Work'] == 'Y']\n",
    "pr_days_with_apt = projects['Days With APT']\n",
    "plt.hist(pr_days_with_apt,bins=10)\n"
   ]
  },
  {
   "cell_type": "code",
   "execution_count": null,
   "metadata": {
    "collapsed": true
   },
   "outputs": [],
   "source": []
  },
  {
   "cell_type": "code",
   "execution_count": null,
   "metadata": {
    "collapsed": true
   },
   "outputs": [],
   "source": []
  },
  {
   "cell_type": "code",
   "execution_count": null,
   "metadata": {
    "collapsed": true
   },
   "outputs": [],
   "source": []
  }
 ],
 "metadata": {
  "kernelspec": {
   "display_name": "Python 3",
   "language": "python",
   "name": "python3"
  },
  "language_info": {
   "codemirror_mode": {
    "name": "ipython",
    "version": 3
   },
   "file_extension": ".py",
   "mimetype": "text/x-python",
   "name": "python",
   "nbconvert_exporter": "python",
   "pygments_lexer": "ipython3",
   "version": "3.5.1"
  }
 },
 "nbformat": 4,
 "nbformat_minor": 0
}
