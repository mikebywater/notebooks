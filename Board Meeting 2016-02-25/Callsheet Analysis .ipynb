{
 "cells": [
  {
   "cell_type": "markdown",
   "metadata": {},
   "source": [
    "### Introduction\n",
    "We have recently discussed the need to try and measure both production and efficency within the delivery team. The challenge is to try come up with a metric that we can use to determine if we are doing a better job of delivering work.\n",
    "\n",
    "### Method\n",
    "\n",
    "This document is a python notebook I have created so that we can do some statistical analysis on a dataset from the callsheet system and try to find a reasonable metric to quantify production and efficiency.\n",
    "\n",
    "The challenge is that we are changing how we approach so many things, we are changing all obvious metrics at once. For example, if we had maintained our pricing methodology, it would be easy to define greater production merely by comparing the amount of money chargeable work has brought in. We could use the price to estimate work effort, more money would suggest a bigger job.\n",
    "\n",
    "We cannot really just look at total time logged as of course this will just go up with the new staff hired, it does not necessarily mean that they produced more useful work in that time period. \n",
    "\n",
    "With that in mind I have extracted 2 base reports from informer which I have ran for 3 seperate years (2014, 2015 and 2016) one of which is a detailed dataset of all of the callsheets and the other is aggregated data.\n",
    "\n",
    "### Callsheets\n",
    "\n",
    "The simplest starting point is perhaps to just bring in some aggregated data for the 3 years in question and see some crude data for basic comparison. First lets import some libraries to help us work with this data."
   ]
  },
  {
   "cell_type": "code",
   "execution_count": 168,
   "metadata": {
    "collapsed": false
   },
   "outputs": [],
   "source": [
    "# Standard Imports\n",
    "import numpy as np\n",
    "import pandas as pd"
   ]
  },
  {
   "cell_type": "code",
   "execution_count": 169,
   "metadata": {
    "collapsed": false
   },
   "outputs": [],
   "source": [
    "# Stats Imports\n",
    "from scipy import stats"
   ]
  },
  {
   "cell_type": "code",
   "execution_count": 170,
   "metadata": {
    "collapsed": false
   },
   "outputs": [],
   "source": [
    "# Plotting\n",
    "import matplotlib as mpl\n",
    "import matplotlib.pyplot as plt\n",
    "import seaborn as sns"
   ]
  },
  {
   "cell_type": "code",
   "execution_count": 171,
   "metadata": {
    "collapsed": false
   },
   "outputs": [],
   "source": [
    "%matplotlib inline"
   ]
  },
  {
   "cell_type": "markdown",
   "metadata": {},
   "source": [
    "Next lets read in our first 3 datasets, the 2014 2015 and 2015 aggreagated data (by month) from some csv files create in informer. This data focuses just on stratum callsheet work. It excludes project callsheets as the majority are for milestone or money tracking only. Analysis of project work will be done later."
   ]
  },
  {
   "cell_type": "code",
   "execution_count": 172,
   "metadata": {
    "collapsed": true
   },
   "outputs": [],
   "source": [
    "cs_agg_2014_df = pd.read_csv('Callsheet Aggregates - 2014.csv')\n",
    "cs_agg_2015_df = pd.read_csv('Callsheet Aggregates - 2015.csv')\n",
    "cs_agg_2016_df = pd.read_csv('Callsheet Aggregates - 2016.csv')"
   ]
  },
  {
   "cell_type": "markdown",
   "metadata": {},
   "source": [
    "Now lets see an example of the aggregated data for 2014 in tabular format."
   ]
  },
  {
   "cell_type": "code",
   "execution_count": 173,
   "metadata": {
    "collapsed": false
   },
   "outputs": [
    {
     "data": {
      "text/html": [
       "<div>\n",
       "<table border=\"1\" class=\"dataframe\">\n",
       "  <thead>\n",
       "    <tr style=\"text-align: right;\">\n",
       "      <th></th>\n",
       "      <th>Closed Month</th>\n",
       "      <th>Time Hours Total (Total)</th>\n",
       "      <th>Time Hours Estimated (Total)</th>\n",
       "      <th>Quote Time (Total)</th>\n",
       "      <th>Count</th>\n",
       "    </tr>\n",
       "  </thead>\n",
       "  <tbody>\n",
       "    <tr>\n",
       "      <th>0</th>\n",
       "      <td>1</td>\n",
       "      <td>498.48</td>\n",
       "      <td>1</td>\n",
       "      <td>152</td>\n",
       "      <td>204</td>\n",
       "    </tr>\n",
       "    <tr>\n",
       "      <th>1</th>\n",
       "      <td>2</td>\n",
       "      <td>578.73</td>\n",
       "      <td>0</td>\n",
       "      <td>160</td>\n",
       "      <td>179</td>\n",
       "    </tr>\n",
       "    <tr>\n",
       "      <th>2</th>\n",
       "      <td>3</td>\n",
       "      <td>303.19</td>\n",
       "      <td>0</td>\n",
       "      <td>55</td>\n",
       "      <td>157</td>\n",
       "    </tr>\n",
       "    <tr>\n",
       "      <th>3</th>\n",
       "      <td>4</td>\n",
       "      <td>243.26</td>\n",
       "      <td>0</td>\n",
       "      <td>95</td>\n",
       "      <td>139</td>\n",
       "    </tr>\n",
       "    <tr>\n",
       "      <th>4</th>\n",
       "      <td>5</td>\n",
       "      <td>368.58</td>\n",
       "      <td>0</td>\n",
       "      <td>135</td>\n",
       "      <td>172</td>\n",
       "    </tr>\n",
       "    <tr>\n",
       "      <th>5</th>\n",
       "      <td>6</td>\n",
       "      <td>437.10</td>\n",
       "      <td>0</td>\n",
       "      <td>155</td>\n",
       "      <td>138</td>\n",
       "    </tr>\n",
       "    <tr>\n",
       "      <th>6</th>\n",
       "      <td>7</td>\n",
       "      <td>1011.67</td>\n",
       "      <td>0</td>\n",
       "      <td>81</td>\n",
       "      <td>138</td>\n",
       "    </tr>\n",
       "    <tr>\n",
       "      <th>7</th>\n",
       "      <td>8</td>\n",
       "      <td>216.22</td>\n",
       "      <td>0</td>\n",
       "      <td>53</td>\n",
       "      <td>184</td>\n",
       "    </tr>\n",
       "    <tr>\n",
       "      <th>8</th>\n",
       "      <td>9</td>\n",
       "      <td>261.65</td>\n",
       "      <td>0</td>\n",
       "      <td>260</td>\n",
       "      <td>184</td>\n",
       "    </tr>\n",
       "    <tr>\n",
       "      <th>9</th>\n",
       "      <td>10</td>\n",
       "      <td>1086.54</td>\n",
       "      <td>0</td>\n",
       "      <td>161</td>\n",
       "      <td>175</td>\n",
       "    </tr>\n",
       "    <tr>\n",
       "      <th>10</th>\n",
       "      <td>11</td>\n",
       "      <td>130.74</td>\n",
       "      <td>1</td>\n",
       "      <td>39</td>\n",
       "      <td>128</td>\n",
       "    </tr>\n",
       "    <tr>\n",
       "      <th>11</th>\n",
       "      <td>12</td>\n",
       "      <td>268.29</td>\n",
       "      <td>2</td>\n",
       "      <td>48</td>\n",
       "      <td>122</td>\n",
       "    </tr>\n",
       "  </tbody>\n",
       "</table>\n",
       "</div>"
      ],
      "text/plain": [
       "    Closed Month   Time Hours Total (Total)  Time Hours Estimated (Total)  \\\n",
       "0               1                    498.48                             1   \n",
       "1               2                    578.73                             0   \n",
       "2               3                    303.19                             0   \n",
       "3               4                    243.26                             0   \n",
       "4               5                    368.58                             0   \n",
       "5               6                    437.10                             0   \n",
       "6               7                   1011.67                             0   \n",
       "7               8                    216.22                             0   \n",
       "8               9                    261.65                             0   \n",
       "9              10                   1086.54                             0   \n",
       "10             11                    130.74                             1   \n",
       "11             12                    268.29                             2   \n",
       "\n",
       "    Quote Time (Total)  Count  \n",
       "0                  152    204  \n",
       "1                  160    179  \n",
       "2                   55    157  \n",
       "3                   95    139  \n",
       "4                  135    172  \n",
       "5                  155    138  \n",
       "6                   81    138  \n",
       "7                   53    184  \n",
       "8                  260    184  \n",
       "9                  161    175  \n",
       "10                  39    128  \n",
       "11                  48    122  "
      ]
     },
     "execution_count": 173,
     "metadata": {},
     "output_type": "execute_result"
    }
   ],
   "source": [
    "cs_agg_2014_df"
   ]
  },
  {
   "cell_type": "markdown",
   "metadata": {},
   "source": [
    "#### Comparison of Callsheets Closed\n",
    "We have similar data for 2015 and the first 2 months of 2016.  We can therefore simply compare the raw count of callsheets for each year by forming a simple bar chart of the information as follows."
   ]
  },
  {
   "cell_type": "code",
   "execution_count": 178,
   "metadata": {
    "collapsed": false
   },
   "outputs": [
    {
     "data": {
      "text/plain": [
       "[<matplotlib.text.Text at 0x22ed18fca90>,\n",
       " <matplotlib.text.Text at 0x22ed1ef8550>,\n",
       " <matplotlib.text.Text at 0x22ed18107b8>,\n",
       " <matplotlib.text.Text at 0x22ed14b7160>,\n",
       " <matplotlib.text.Text at 0x22ed02b7780>,\n",
       " <matplotlib.text.Text at 0x22ed1641e10>,\n",
       " <matplotlib.text.Text at 0x22ed1600b38>,\n",
       " <matplotlib.text.Text at 0x22ed1565b38>,\n",
       " <matplotlib.text.Text at 0x22ed17486a0>,\n",
       " <matplotlib.text.Text at 0x22ed1565240>,\n",
       " <matplotlib.text.Text at 0x22ed17482e8>,\n",
       " <matplotlib.text.Text at 0x22ed15ece48>]"
      ]
     },
     "execution_count": 178,
     "metadata": {},
     "output_type": "execute_result"
    },
    {
     "data": {
      "image/png": "[encoded data removed]",
      "text/plain": [
       "<matplotlib.figure.Figure at 0x22ed1ea8240>"
      ]
     },
     "metadata": {},
     "output_type": "display_data"
    }
   ],
   "source": [
    "df14 = cs_agg_2014_df[['Count']]\n",
    "df15 = cs_agg_2015_df[['Count']]\n",
    "df16 = cs_agg_2016_df[['Count']]\n",
    "frames = [df14, df15]\n",
    "df = pd.concat([df14, df15, df16], axis=1, join='outer')\n",
    "df.columns = ['2014', '2015' , '2016']\n",
    "ax = df.plot(kind='bar' , figsize=(12, 8))\n",
    "ax.set_ylabel('Callsheets Closed')\n",
    "ax.set_xticklabels(('Jan', 'Feb', 'Mar', 'Apr', 'May' , 'Jun' , 'Jul' , 'Aug' , 'Sep' , 'Oct' , 'Nov' , 'Dec'))"
   ]
  },
  {
   "cell_type": "markdown",
   "metadata": {},
   "source": [
    "So just looking and pure number of callsheets we are, so far closing more calls tan at the same point in the previous 2 years. We are still straining our 3 new developers so I would expect this to improve steadily over the next 3 - 6 months. The main problem with this of course, is that it does not give the picture of the project work. The amount of project work we are able to handle is of the main concern "
   ]
  },
  {
   "cell_type": "code",
   "execution_count": 181,
   "metadata": {
    "collapsed": false
   },
   "outputs": [
    {
     "data": {
      "text/plain": [
       "[<matplotlib.text.Text at 0x22ecfa70c50>,\n",
       " <matplotlib.text.Text at 0x22ecfa1add8>,\n",
       " <matplotlib.text.Text at 0x22ed17641d0>,\n",
       " <matplotlib.text.Text at 0x22ed1764cc0>,\n",
       " <matplotlib.text.Text at 0x22ed20fd7f0>,\n",
       " <matplotlib.text.Text at 0x22ed2102320>,\n",
       " <matplotlib.text.Text at 0x22ed2102e10>,\n",
       " <matplotlib.text.Text at 0x22ed2105940>,\n",
       " <matplotlib.text.Text at 0x22ecf982518>,\n",
       " <matplotlib.text.Text at 0x22ed1764c18>,\n",
       " <matplotlib.text.Text at 0x22ed210d390>,\n",
       " <matplotlib.text.Text at 0x22ed21111d0>]"
      ]
     },
     "execution_count": 181,
     "metadata": {},
     "output_type": "execute_result"
    },
    {
     "data": {
      "image/png": "[encoded data removed]",
      "text/plain": [
       "<matplotlib.figure.Figure at 0x22ed18b3908>"
      ]
     },
     "metadata": {},
     "output_type": "display_data"
    }
   ],
   "source": [
    "df14 = cs_agg_2014_df[['Time Hours Total (Total)']]\n",
    "df15 = cs_agg_2015_df[['Time Hours Total (Total)']]\n",
    "df16 = cs_agg_2016_df[['Time Hours Total (Total)']]\n",
    "frames = [df14, df15]\n",
    "df = pd.concat([df14, df15, df16], axis=1, join='outer')\n",
    "df.columns = ['2014', '2015' , '2016']\n",
    "ax = df.plot(kind='bar' , figsize=(12, 8))\n",
    "ax.set_ylabel('Callsheets Hours Worked')\n",
    "ax.set_xticklabels(('Jan', 'Feb', 'Mar', 'Apr', 'May' , 'Jun' , 'Jul' , 'Aug' , 'Sep' , 'Oct' , 'Nov' , 'Dec'))"
   ]
  },
  {
   "cell_type": "code",
   "execution_count": 183,
   "metadata": {
    "collapsed": false
   },
   "outputs": [
    {
     "data": {
      "text/plain": [
       "[<matplotlib.text.Text at 0x22ed2919048>,\n",
       " <matplotlib.text.Text at 0x22ed28fa7b8>,\n",
       " <matplotlib.text.Text at 0x22ed28923c8>,\n",
       " <matplotlib.text.Text at 0x22ed2892eb8>,\n",
       " <matplotlib.text.Text at 0x22ed28969e8>,\n",
       " <matplotlib.text.Text at 0x22ed289a518>,\n",
       " <matplotlib.text.Text at 0x22ed289c048>,\n",
       " <matplotlib.text.Text at 0x22ed289cb38>,\n",
       " <matplotlib.text.Text at 0x22ed28a32e8>,\n",
       " <matplotlib.text.Text at 0x22ed280fa58>,\n",
       " <matplotlib.text.Text at 0x22ed28ac860>,\n",
       " <matplotlib.text.Text at 0x22ed28b2390>]"
      ]
     },
     "execution_count": 183,
     "metadata": {},
     "output_type": "execute_result"
    },
    {
     "data": {
      "image/png": "[encoded data removed]",
      "text/plain": [
       "<matplotlib.figure.Figure at 0x22ed25f7c18>"
      ]
     },
     "metadata": {},
     "output_type": "display_data"
    }
   ],
   "source": [
    "df14 = cs_agg_2014_df[['Quote Time (Total)']]\n",
    "df15 = cs_agg_2015_df[['Quote Time (Total)']]\n",
    "df16 = cs_agg_2016_df[['Quote Time (Total)']]\n",
    "frames = [df14, df15]\n",
    "df = pd.concat([df14, df15, df16], axis=1, join='outer')\n",
    "df.columns = ['2014', '2015' , '2016']\n",
    "ax = df.plot(kind='bar' , figsize=(12, 8))\n",
    "ax.set_ylabel('Quoted Hours')\n",
    "ax.set_xticklabels(('Jan', 'Feb', 'Mar', 'Apr', 'May' , 'Jun' , 'Jul' , 'Aug' , 'Sep' , 'Oct' , 'Nov' , 'Dec'))"
   ]
  },
  {
   "cell_type": "markdown",
   "metadata": {},
   "source": [
    "### Efficiency"
   ]
  },
  {
   "cell_type": "code",
   "execution_count": 184,
   "metadata": {
    "collapsed": false
   },
   "outputs": [
    {
     "data": {
      "text/html": [
       "<div>\n",
       "<table border=\"1\" class=\"dataframe\">\n",
       "  <thead>\n",
       "    <tr style=\"text-align: right;\">\n",
       "      <th></th>\n",
       "      <th>Product Code</th>\n",
       "      <th>Call No</th>\n",
       "      <th>Closed Date</th>\n",
       "      <th>Chargeable</th>\n",
       "      <th>Days With APT</th>\n",
       "      <th>Project Work</th>\n",
       "    </tr>\n",
       "  </thead>\n",
       "  <tbody>\n",
       "    <tr>\n",
       "      <th>4244</th>\n",
       "      <td>SPECTRUM</td>\n",
       "      <td>151854</td>\n",
       "      <td>7 Jan 2015</td>\n",
       "      <td>R</td>\n",
       "      <td>857</td>\n",
       "      <td>N</td>\n",
       "    </tr>\n",
       "    <tr>\n",
       "      <th>4245</th>\n",
       "      <td>MS</td>\n",
       "      <td>151785</td>\n",
       "      <td>11 Feb 2015</td>\n",
       "      <td>R</td>\n",
       "      <td>885</td>\n",
       "      <td>Y</td>\n",
       "    </tr>\n",
       "    <tr>\n",
       "      <th>4246</th>\n",
       "      <td>MS</td>\n",
       "      <td>151783</td>\n",
       "      <td>15 Sep 2015</td>\n",
       "      <td>Y</td>\n",
       "      <td>893</td>\n",
       "      <td>Y</td>\n",
       "    </tr>\n",
       "    <tr>\n",
       "      <th>4247</th>\n",
       "      <td>MS</td>\n",
       "      <td>153310</td>\n",
       "      <td>21 Jul 2015</td>\n",
       "      <td>N</td>\n",
       "      <td>921</td>\n",
       "      <td>N</td>\n",
       "    </tr>\n",
       "    <tr>\n",
       "      <th>4248</th>\n",
       "      <td>MS.WEB</td>\n",
       "      <td>149090</td>\n",
       "      <td>7 Jan 2015</td>\n",
       "      <td>U</td>\n",
       "      <td>923</td>\n",
       "      <td>Y</td>\n",
       "    </tr>\n",
       "    <tr>\n",
       "      <th>4249</th>\n",
       "      <td>MS</td>\n",
       "      <td>149743</td>\n",
       "      <td>13 Feb 2015</td>\n",
       "      <td>U</td>\n",
       "      <td>923</td>\n",
       "      <td>Y</td>\n",
       "    </tr>\n",
       "    <tr>\n",
       "      <th>4250</th>\n",
       "      <td>ISM</td>\n",
       "      <td>148203</td>\n",
       "      <td>27 Mar 2015</td>\n",
       "      <td>N</td>\n",
       "      <td>1011</td>\n",
       "      <td>N</td>\n",
       "    </tr>\n",
       "    <tr>\n",
       "      <th>4251</th>\n",
       "      <td>MS</td>\n",
       "      <td>147164</td>\n",
       "      <td>11 Jun 2015</td>\n",
       "      <td>N</td>\n",
       "      <td>1111</td>\n",
       "      <td>N</td>\n",
       "    </tr>\n",
       "    <tr>\n",
       "      <th>4252</th>\n",
       "      <td>MS</td>\n",
       "      <td>147792</td>\n",
       "      <td>26 Nov 2015</td>\n",
       "      <td>U</td>\n",
       "      <td>1205</td>\n",
       "      <td>Y</td>\n",
       "    </tr>\n",
       "    <tr>\n",
       "      <th>4253</th>\n",
       "      <td>MS</td>\n",
       "      <td>134241</td>\n",
       "      <td>11 Jun 2015</td>\n",
       "      <td>U</td>\n",
       "      <td>1549</td>\n",
       "      <td>NaN</td>\n",
       "    </tr>\n",
       "  </tbody>\n",
       "</table>\n",
       "</div>"
      ],
      "text/plain": [
       "     Product Code  Call No  Closed Date Chargeable  Days With APT Project Work\n",
       "4244     SPECTRUM   151854   7 Jan 2015          R            857            N\n",
       "4245           MS   151785  11 Feb 2015          R            885            Y\n",
       "4246           MS   151783  15 Sep 2015          Y            893            Y\n",
       "4247           MS   153310  21 Jul 2015          N            921            N\n",
       "4248       MS.WEB   149090   7 Jan 2015          U            923            Y\n",
       "4249           MS   149743  13 Feb 2015          U            923            Y\n",
       "4250          ISM   148203  27 Mar 2015          N           1011            N\n",
       "4251           MS   147164  11 Jun 2015          N           1111            N\n",
       "4252           MS   147792  26 Nov 2015          U           1205            Y\n",
       "4253           MS   134241  11 Jun 2015          U           1549          NaN"
      ]
     },
     "execution_count": 184,
     "metadata": {},
     "output_type": "execute_result"
    }
   ],
   "source": [
    "dframe = pd.read_csv('Callsheet Open Time.csv')\n",
    "dframe.tail(10)"
   ]
  },
  {
   "cell_type": "code",
   "execution_count": 185,
   "metadata": {
    "collapsed": false
   },
   "outputs": [
    {
     "data": {
      "text/plain": [
       "(array([  3.85300000e+03,   1.11000000e+02,   3.60000000e+01,\n",
       "          1.20000000e+01,   1.20000000e+01,   2.00000000e+00,\n",
       "          1.00000000e+00,   1.00000000e+00,   0.00000000e+00,\n",
       "          1.00000000e+00]),\n",
       " array([ -1.00000000e+00,   1.54000000e+02,   3.09000000e+02,\n",
       "          4.64000000e+02,   6.19000000e+02,   7.74000000e+02,\n",
       "          9.29000000e+02,   1.08400000e+03,   1.23900000e+03,\n",
       "          1.39400000e+03,   1.54900000e+03]),\n",
       " <a list of 10 Patch objects>)"
      ]
     },
     "execution_count": 185,
     "metadata": {},
     "output_type": "execute_result"
    },
    {
     "data": {
      "image/png": "[encoded data removed]",
      "text/plain": [
       "<matplotlib.figure.Figure at 0x22ece782b70>"
      ]
     },
     "metadata": {},
     "output_type": "display_data"
    }
   ],
   "source": [
    "callsheets = dframe[dframe['Project Work'] != 'Y']\n",
    "cs_days_with_apt = callsheets['Days With APT']\n",
    "plt.hist(cs_days_with_apt,bins=10)\n"
   ]
  },
  {
   "cell_type": "code",
   "execution_count": 186,
   "metadata": {
    "collapsed": false
   },
   "outputs": [
    {
     "data": {
      "text/plain": [
       "(array([ 130.,   37.,   17.,   17.,   12.,    5.,    2.,    4.,    0.,    1.]),\n",
       " array([    0. ,   120.5,   241. ,   361.5,   482. ,   602.5,   723. ,\n",
       "          843.5,   964. ,  1084.5,  1205. ]),\n",
       " <a list of 10 Patch objects>)"
      ]
     },
     "execution_count": 186,
     "metadata": {},
     "output_type": "execute_result"
    },
    {
     "data": {
      "image/png": "[encoded data removed]",
      "text/plain": [
       "<matplotlib.figure.Figure at 0x22ece861d68>"
      ]
     },
     "metadata": {},
     "output_type": "display_data"
    }
   ],
   "source": [
    "projects = dframe[dframe['Project Work'] == 'Y']\n",
    "pr_days_with_apt = projects['Days With APT']\n",
    "plt.hist(pr_days_with_apt,bins=10)\n"
   ]
  },
  {
   "cell_type": "code",
   "execution_count": null,
   "metadata": {
    "collapsed": false
   },
   "outputs": [],
   "source": []
  },
  {
   "cell_type": "code",
   "execution_count": null,
   "metadata": {
    "collapsed": false
   },
   "outputs": [],
   "source": []
  },
  {
   "cell_type": "code",
   "execution_count": null,
   "metadata": {
    "collapsed": false
   },
   "outputs": [],
   "source": []
  }
 ],
 "metadata": {
  "kernelspec": {
   "display_name": "Python 3",
   "language": "python",
   "name": "python3"
  },
  "language_info": {
   "codemirror_mode": {
    "name": "ipython",
    "version": 3
   },
   "file_extension": ".py",
   "mimetype": "text/x-python",
   "name": "python",
   "nbconvert_exporter": "python",
   "pygments_lexer": "ipython3",
   "version": "3.5.1"
  }
 },
 "nbformat": 4,
 "nbformat_minor": 0
}
