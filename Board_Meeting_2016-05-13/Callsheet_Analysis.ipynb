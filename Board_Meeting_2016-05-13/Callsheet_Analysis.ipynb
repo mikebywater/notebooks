{
 "cells": [
  {
   "cell_type": "markdown",
   "metadata": {},
   "source": [
    "### Introduction"
   ]
  },
  {
   "cell_type": "markdown",
   "metadata": {},
   "source": [
    "Following on from the February analysis of callsheets .."
   ]
  },
  {
   "cell_type": "markdown",
   "metadata": {},
   "source": [
    "### Method\n",
    "\n",
    "Looking at "
   ]
  },
  {
   "cell_type": "markdown",
   "metadata": {},
   "source": [
    "### Callsheets"
   ]
  },
  {
   "cell_type": "markdown",
   "metadata": {},
   "source": [
    "As before we start by importing the packages we need for our analysis"
   ]
  },
  {
   "cell_type": "code",
   "execution_count": 37,
   "metadata": {
    "collapsed": false
   },
   "outputs": [],
   "source": [
    "# Standard Imports\n",
    "import numpy as np\n",
    "import pandas as pd"
   ]
  },
  {
   "cell_type": "code",
   "execution_count": 38,
   "metadata": {
    "collapsed": false
   },
   "outputs": [],
   "source": [
    "# Stats Imports\n",
    "from scipy import stats"
   ]
  },
  {
   "cell_type": "code",
   "execution_count": 39,
   "metadata": {
    "collapsed": false
   },
   "outputs": [],
   "source": [
    "# Plotting\n",
    "import matplotlib as mpl\n",
    "import matplotlib.pyplot as plt\n",
    "import seaborn as sns"
   ]
  },
  {
   "cell_type": "code",
   "execution_count": 40,
   "metadata": {
    "collapsed": false
   },
   "outputs": [],
   "source": [
    "%matplotlib inline"
   ]
  },
  {
   "cell_type": "markdown",
   "metadata": {},
   "source": [
    "Next lets read in our first 3 datasets, the 2014 2015 and 2015 aggreagated data (by month) from some csv files create in informer. This data focuses just on stratum callsheet work. It excludes project callsheets as the majority are for milestone or money tracking only. Analysis of project work will be done later."
   ]
  },
  {
   "cell_type": "code",
   "execution_count": 41,
   "metadata": {
    "collapsed": false
   },
   "outputs": [],
   "source": [
    "cs_agg_2014_df = pd.read_csv('data/Callsheet Aggregates - 2014.csv')\n",
    "cs_agg_2015_df = pd.read_csv('data/Callsheet Aggregates - 2015.csv')\n",
    "cs_agg_2016_df = pd.read_csv('data/Callsheet Aggregates - 2016.csv')"
   ]
  },
  {
   "cell_type": "markdown",
   "metadata": {},
   "source": [
    "Now lets see an example of the aggregated data for 2014 in tabular format."
   ]
  },
  {
   "cell_type": "code",
   "execution_count": 42,
   "metadata": {
    "collapsed": false
   },
   "outputs": [
    {
     "data": {
      "text/html": [
       "<div>\n",
       "<table border=\"1\" class=\"dataframe\">\n",
       "  <thead>\n",
       "    <tr style=\"text-align: right;\">\n",
       "      <th></th>\n",
       "      <th>Closed Month</th>\n",
       "      <th>Time Hours Total (Total)</th>\n",
       "      <th>Time Hours Estimated (Total)</th>\n",
       "      <th>Quote Time (Total)</th>\n",
       "      <th>Count</th>\n",
       "    </tr>\n",
       "  </thead>\n",
       "  <tbody>\n",
       "    <tr>\n",
       "      <th>0</th>\n",
       "      <td>1</td>\n",
       "      <td>498.48</td>\n",
       "      <td>1.0</td>\n",
       "      <td>152</td>\n",
       "      <td>204</td>\n",
       "    </tr>\n",
       "    <tr>\n",
       "      <th>1</th>\n",
       "      <td>2</td>\n",
       "      <td>578.73</td>\n",
       "      <td>0.0</td>\n",
       "      <td>160</td>\n",
       "      <td>179</td>\n",
       "    </tr>\n",
       "    <tr>\n",
       "      <th>2</th>\n",
       "      <td>3</td>\n",
       "      <td>303.19</td>\n",
       "      <td>0.0</td>\n",
       "      <td>55</td>\n",
       "      <td>157</td>\n",
       "    </tr>\n",
       "    <tr>\n",
       "      <th>3</th>\n",
       "      <td>4</td>\n",
       "      <td>243.26</td>\n",
       "      <td>0.0</td>\n",
       "      <td>95</td>\n",
       "      <td>139</td>\n",
       "    </tr>\n",
       "    <tr>\n",
       "      <th>4</th>\n",
       "      <td>5</td>\n",
       "      <td>368.58</td>\n",
       "      <td>0.0</td>\n",
       "      <td>135</td>\n",
       "      <td>172</td>\n",
       "    </tr>\n",
       "    <tr>\n",
       "      <th>5</th>\n",
       "      <td>6</td>\n",
       "      <td>437.10</td>\n",
       "      <td>0.0</td>\n",
       "      <td>155</td>\n",
       "      <td>138</td>\n",
       "    </tr>\n",
       "    <tr>\n",
       "      <th>6</th>\n",
       "      <td>7</td>\n",
       "      <td>1011.67</td>\n",
       "      <td>0.0</td>\n",
       "      <td>81</td>\n",
       "      <td>138</td>\n",
       "    </tr>\n",
       "    <tr>\n",
       "      <th>7</th>\n",
       "      <td>8</td>\n",
       "      <td>216.22</td>\n",
       "      <td>0.0</td>\n",
       "      <td>53</td>\n",
       "      <td>184</td>\n",
       "    </tr>\n",
       "    <tr>\n",
       "      <th>8</th>\n",
       "      <td>9</td>\n",
       "      <td>261.65</td>\n",
       "      <td>0.0</td>\n",
       "      <td>260</td>\n",
       "      <td>184</td>\n",
       "    </tr>\n",
       "    <tr>\n",
       "      <th>9</th>\n",
       "      <td>10</td>\n",
       "      <td>1086.54</td>\n",
       "      <td>0.0</td>\n",
       "      <td>161</td>\n",
       "      <td>175</td>\n",
       "    </tr>\n",
       "    <tr>\n",
       "      <th>10</th>\n",
       "      <td>11</td>\n",
       "      <td>130.74</td>\n",
       "      <td>1.0</td>\n",
       "      <td>39</td>\n",
       "      <td>128</td>\n",
       "    </tr>\n",
       "    <tr>\n",
       "      <th>11</th>\n",
       "      <td>12</td>\n",
       "      <td>268.29</td>\n",
       "      <td>2.0</td>\n",
       "      <td>48</td>\n",
       "      <td>122</td>\n",
       "    </tr>\n",
       "  </tbody>\n",
       "</table>\n",
       "</div>"
      ],
      "text/plain": [
       "    Closed Month   Time Hours Total (Total)  Time Hours Estimated (Total)  \\\n",
       "0               1                    498.48                           1.0   \n",
       "1               2                    578.73                           0.0   \n",
       "2               3                    303.19                           0.0   \n",
       "3               4                    243.26                           0.0   \n",
       "4               5                    368.58                           0.0   \n",
       "5               6                    437.10                           0.0   \n",
       "6               7                   1011.67                           0.0   \n",
       "7               8                    216.22                           0.0   \n",
       "8               9                    261.65                           0.0   \n",
       "9              10                   1086.54                           0.0   \n",
       "10             11                    130.74                           1.0   \n",
       "11             12                    268.29                           2.0   \n",
       "\n",
       "    Quote Time (Total)  Count  \n",
       "0                  152    204  \n",
       "1                  160    179  \n",
       "2                   55    157  \n",
       "3                   95    139  \n",
       "4                  135    172  \n",
       "5                  155    138  \n",
       "6                   81    138  \n",
       "7                   53    184  \n",
       "8                  260    184  \n",
       "9                  161    175  \n",
       "10                  39    128  \n",
       "11                  48    122  "
      ]
     },
     "execution_count": 42,
     "metadata": {},
     "output_type": "execute_result"
    }
   ],
   "source": [
    "cs_agg_2014_df"
   ]
  },
  {
   "cell_type": "markdown",
   "metadata": {},
   "source": [
    "#### Comparison of Callsheets Closed"
   ]
  },
  {
   "cell_type": "markdown",
   "metadata": {},
   "source": [
    "We have similar data for 2015 and the first 2 months of 2016.  We can therefore simply compare the raw count of callsheets for each year by forming a simple bar chart of the information as follows."
   ]
  },
  {
   "cell_type": "code",
   "execution_count": 43,
   "metadata": {
    "collapsed": false,
    "format": "tab"
   },
   "outputs": [
    {
     "data": {
      "image/png": "[encoded data removed]",
      "text/plain": [
       "<matplotlib.figure.Figure at 0xca88588>"
      ]
     },
     "metadata": {},
     "output_type": "display_data"
    }
   ],
   "source": [
    "df14 = cs_agg_2014_df[['Count']]\n",
    "df15 = cs_agg_2015_df[['Count']]\n",
    "df16 = cs_agg_2016_df[['Count']]\n",
    "df = pd.concat([df14, df15, df16], axis=1, join='outer')\n",
    "df.columns = ['2014', '2015' , '2016']\n",
    "ax = df.plot(kind='bar' , figsize=(12, 8))\n",
    "ax.set_ylabel('Callsheets Closed')\n",
    "ax.set_xticklabels(('Jan', 'Feb', 'Mar', 'Apr', 'May' , 'Jun' , 'Jul' , 'Aug' , 'Sep' , 'Oct' , 'Nov' , 'Dec'));\n"
   ]
  },
  {
   "cell_type": "markdown",
   "metadata": {},
   "source": [
    "So just looking and pure number of callsheets we are, so far closing more calls tan at the same point in the previous 2 years. We are still straining our 3 new developers so I would expect this to improve steadily over the next 3 - 6 months.\n",
    "\n",
    "This alone though is again, is not the full picture, how do we know these callsheets were a similar amount of work as previous years ?"
   ]
  },
  {
   "cell_type": "markdown",
   "metadata": {},
   "source": [
    "#### Comparison of Callsheets Total Hours at Completion"
   ]
  },
  {
   "cell_type": "markdown",
   "metadata": {},
   "source": [
    "What might be nice is to see that the estimates of work effort to complete these jobs has also gone up. eg. We have completed more callsheets than ever before and they were also of similar difficulty, therefore, more work done in total. Unfortunately the estimation data recorded ranges between sparse and none existent, particularly prior to 2016. So the next thing I looked at was total time spent on callsheets at the point of completion."
   ]
  },
  {
   "cell_type": "code",
   "execution_count": 44,
   "metadata": {
    "collapsed": false,
    "format": "tab",
    "scrolled": false
   },
   "outputs": [
    {
     "data": {
      "image/png": "[encoded data removed]",
      "text/plain": [
       "<matplotlib.figure.Figure at 0xba0ce10>"
      ]
     },
     "metadata": {},
     "output_type": "display_data"
    }
   ],
   "source": [
    "df14 = cs_agg_2014_df[['Time Hours Total (Total)']]\n",
    "df15 = cs_agg_2015_df[['Time Hours Total (Total)']]\n",
    "df16 = cs_agg_2016_df[['Time Hours Total (Total)']]\n",
    "df = pd.concat([df14, df15, df16], axis=1, join='outer')\n",
    "df.columns = ['2014', '2015' , '2016']\n",
    "ax = df.plot(kind='bar' , figsize=(12, 8))\n",
    "ax.set_ylabel('Callsheets Hours Worked')\n",
    "ax.set_xticklabels(('Jan', 'Feb', 'Mar', 'Apr', 'May' , 'Jun' , 'Jul' , 'Aug' , 'Sep' , 'Oct' , 'Nov' , 'Dec'));"
   ]
  },
  {
   "cell_type": "markdown",
   "metadata": {},
   "source": [
    "We can see that so far we are spending a similar amount of time on callsheets we have closed, (although february looks low the month is still not complete). This suggests that we are either more efficient in closing the callsheets faster with less effort, or the callsheets were for smaller jobs, again accurate estimate recording here would help shed some light if we had it. As we have not another it is worth looking at quotable work."
   ]
  },
  {
   "cell_type": "markdown",
   "metadata": {},
   "source": [
    "### Conclusion"
   ]
  },
  {
   "cell_type": "markdown",
   "metadata": {},
   "source": [
    "In conclusion I think we have found a reasonable way of measuring how we are dealing with callsheets. We will use the 'Comparison of Callsheets Closed' to determine our production , we will ensure we are supplying a good customer service using the 'Callsheet Duration' histograms.\n",
    "\n",
    "For projects I think we need to look at raw project hours completed, and also look to have callsheets for the milestones and for master callsheet that have both estimates and accurate time logged. We will need to be able to isolate these from all other callsheets project or otherwise. If we are confident in our estimates we can then use this data as the metric of \"quantity\" of project work completed, and by having it at milestone level we should get more datapoints than just looking at when master calls close.\n",
    "\n",
    "Until this data is collected however the best we can probably do is simply use the time logged on project calls each month to determine the capacity we have to do project work (even though it could be spent inefficiently). \n",
    "\n",
    "By looking to see a consitent level of throughput is maintained on callsheets, and seeing that more time is logged against projects than previously, we can be confident our throughput overall has improved.\n",
    "\n",
    "If we see a dip in the callsheet metrics or we are having to sacrifice project time logged compared to previous years to maintain a level then we will cannt consider that our production has improved."
   ]
  },
  {
   "cell_type": "markdown",
   "metadata": {},
   "source": [
    "## Callsheet Duration Analysis\n",
    "\n",
    "* Comparison of Total Duration of Callsheets\n",
    "* Comparison of Days Callsheets are With APT\n",
    "* The Relationship Between Total Hours Worked and Duration\n",
    "* The Relationship Between Total Hours Worked and Days With APT\n",
    "* The relationship Between Duration and Profitablitiy on Chargeable Callsheets\n",
    "\n"
   ]
  },
  {
   "cell_type": "code",
   "execution_count": 45,
   "metadata": {
    "collapsed": false
   },
   "outputs": [
    {
     "data": {
      "text/html": [
       "<div>\n",
       "<table border=\"1\" class=\"dataframe\">\n",
       "  <thead>\n",
       "    <tr style=\"text-align: right;\">\n",
       "      <th></th>\n",
       "      <th>Call No</th>\n",
       "      <th>Taken Date</th>\n",
       "      <th>Closed Date</th>\n",
       "      <th>Closed Year</th>\n",
       "      <th>Days With APT</th>\n",
       "      <th>Days With Customer</th>\n",
       "      <th>Total Days</th>\n",
       "      <th>Chargeable</th>\n",
       "      <th>Project Work</th>\n",
       "      <th>Quote Time</th>\n",
       "      <th>Quote Amount</th>\n",
       "      <th>Time Hours Estimated</th>\n",
       "      <th>Time Hours Total</th>\n",
       "      <th>Net Time</th>\n",
       "    </tr>\n",
       "  </thead>\n",
       "  <tbody>\n",
       "    <tr>\n",
       "      <th>12214</th>\n",
       "      <td>158256</td>\n",
       "      <td>2013-01-09</td>\n",
       "      <td>2013-01-09</td>\n",
       "      <td>2013</td>\n",
       "      <td>0</td>\n",
       "      <td>0</td>\n",
       "      <td>0</td>\n",
       "      <td>N</td>\n",
       "      <td>N</td>\n",
       "      <td>0</td>\n",
       "      <td>0</td>\n",
       "      <td>0.0</td>\n",
       "      <td>0.32</td>\n",
       "      <td>0</td>\n",
       "    </tr>\n",
       "    <tr>\n",
       "      <th>12215</th>\n",
       "      <td>158257</td>\n",
       "      <td>2013-01-09</td>\n",
       "      <td>2013-03-13</td>\n",
       "      <td>2013</td>\n",
       "      <td>45</td>\n",
       "      <td>0</td>\n",
       "      <td>45</td>\n",
       "      <td>N</td>\n",
       "      <td>N</td>\n",
       "      <td>0</td>\n",
       "      <td>0</td>\n",
       "      <td>0.0</td>\n",
       "      <td>3.57</td>\n",
       "      <td>-4</td>\n",
       "    </tr>\n",
       "  </tbody>\n",
       "</table>\n",
       "</div>"
      ],
      "text/plain": [
       "       Call No  Taken Date Closed Date  Closed Year  Days With APT  \\\n",
       "12214   158256  2013-01-09  2013-01-09         2013              0   \n",
       "12215   158257  2013-01-09  2013-03-13         2013             45   \n",
       "\n",
       "       Days With Customer  Total Days Chargeable Project Work  Quote Time  \\\n",
       "12214                   0           0          N            N           0   \n",
       "12215                   0          45          N            N           0   \n",
       "\n",
       "      Quote Amount  Time Hours Estimated  Time Hours Total  Net Time  \n",
       "12214            0                   0.0              0.32         0  \n",
       "12215            0                   0.0              3.57        -4  "
      ]
     },
     "execution_count": 45,
     "metadata": {},
     "output_type": "execute_result"
    }
   ],
   "source": [
    "df = pd.read_csv('data/Callsheet Detail.csv')\n",
    "df.tail(2)"
   ]
  },
  {
   "cell_type": "code",
   "execution_count": 46,
   "metadata": {
    "collapsed": true
   },
   "outputs": [],
   "source": [
    "df = df[df['Project Work'] != 'Y']\n",
    "df = df[df['Total Days'] < 365]\n",
    "df = df[df['Days With APT'] > 0]\n",
    "df = df[df['Days With APT'] < 700]\n",
    "df_quoted = df[df['Quote Time'] > 0]"
   ]
  },
  {
   "cell_type": "markdown",
   "metadata": {},
   "source": [
    "### Total Duration of Callsheets"
   ]
  },
  {
   "cell_type": "code",
   "execution_count": 47,
   "metadata": {
    "collapsed": false
   },
   "outputs": [
    {
     "data": {
      "image/png": "[encoded data removed]",
      "text/plain": [
       "<matplotlib.figure.Figure at 0xbb89710>"
      ]
     },
     "metadata": {},
     "output_type": "display_data"
    }
   ],
   "source": [
    "plt.figure(figsize=(18, 6));\n",
    "ax = sns.boxplot(y=\"Closed Year\", x=\"Total Days\", data=df, orient=\"h\", )\n",
    "ax.set_xticks(np.linspace(0,400,21));\n",
    "ax.set_title(\"Total Duration - All Callsheets\");"
   ]
  },
  {
   "cell_type": "code",
   "execution_count": 48,
   "metadata": {
    "collapsed": false,
    "format": "tab"
   },
   "outputs": [
    {
     "data": {
      "image/png": "[encoded data removed]",
      "text/plain": [
       "<matplotlib.figure.Figure at 0xbb85400>"
      ]
     },
     "metadata": {},
     "output_type": "display_data"
    }
   ],
   "source": [
    "plt.figure(figsize=(18, 6));\n",
    "ax = sns.boxplot(y=\"Closed Year\", x=\"Total Days\", data=df_quoted, orient=\"h\", )\n",
    "ax.set_xticks(np.linspace(0,400,21));\n",
    "ax.set_title(\"Total Duration - Quoted Callsheets Only\");"
   ]
  },
  {
   "cell_type": "markdown",
   "metadata": {},
   "source": [
    "### Days Callsheets are With APT"
   ]
  },
  {
   "cell_type": "code",
   "execution_count": 49,
   "metadata": {
    "collapsed": false,
    "format": "tab"
   },
   "outputs": [
    {
     "data": {
      "image/png": "[encoded data removed]",
      "text/plain": [
       "<matplotlib.figure.Figure at 0xb9b0be0>"
      ]
     },
     "metadata": {},
     "output_type": "display_data"
    }
   ],
   "source": [
    "plt.figure(figsize=(18, 6));\n",
    "ax = sns.boxplot(y=\"Closed Year\", x=\"Days With APT\", data=df, orient=\"h\")\n",
    "ax.set_xticks(np.linspace(0,400,21));\n",
    "ax.set_title(\"Days With APT - All Callsheets\");"
   ]
  },
  {
   "cell_type": "code",
   "execution_count": 106,
   "metadata": {
    "collapsed": false,
    "format": "tab",
    "scrolled": true
   },
   "outputs": [
    {
     "data": {
      "image/png": "[encoded data removed]",
      "text/plain": [
       "<matplotlib.figure.Figure at 0xba09048>"
      ]
     },
     "metadata": {},
     "output_type": "display_data"
    }
   ],
   "source": [
    "plt.figure(figsize=(18, 6));\n",
    "ax = sns.boxplot(y=\"Closed Year\", x=\"Days With APT\", data=df_quoted, orient=\"h\")\n",
    "ax.set_xticks(np.linspace(0,400,21));\n",
    "ax.set_title(\"Days With APT - Quoted Callsheets Only\");"
   ]
  },
  {
   "cell_type": "markdown",
   "metadata": {},
   "source": [
    "### Callsheet Estimation"
   ]
  },
  {
   "cell_type": "code",
   "execution_count": 114,
   "metadata": {
    "collapsed": false
   },
   "outputs": [],
   "source": [
    "df_est = df[df['Time Hours Estimated'] > 0]\n",
    "df_est = df_est[df_est['Time Hours Total'] > 0]\n",
    "df_est_14 = df_est[df_est['Closed Year'] == 2014]\n",
    "df_est_15 = df_est[df_est['Closed Year'] == 2015]\n",
    "df_est_16 = df_est[df_est['Closed Year'] == 2016]"
   ]
  },
  {
   "cell_type": "code",
   "execution_count": 115,
   "metadata": {
    "collapsed": false
   },
   "outputs": [
    {
     "data": {
      "text/plain": [
       "-1.8669201520912548"
      ]
     },
     "execution_count": 115,
     "metadata": {},
     "output_type": "execute_result"
    }
   ],
   "source": [
    "# The mean of all of the values for 2015\n",
    "df_est_15['Net Time'].mean()"
   ]
  },
  {
   "cell_type": "code",
   "execution_count": 116,
   "metadata": {
    "collapsed": false
   },
   "outputs": [
    {
     "data": {
      "text/plain": [
       "9.932663020399207"
      ]
     },
     "execution_count": 116,
     "metadata": {},
     "output_type": "execute_result"
    }
   ],
   "source": [
    "# The standard deviation of all of the values for 2015\n",
    "df_est_15['Net Time'].std()"
   ]
  },
  {
   "cell_type": "code",
   "execution_count": 117,
   "metadata": {
    "collapsed": false
   },
   "outputs": [
    {
     "data": {
      "text/plain": [
       "-1.432"
      ]
     },
     "execution_count": 117,
     "metadata": {},
     "output_type": "execute_result"
    }
   ],
   "source": [
    "# The mean of all of the values for 2016\n",
    "df_est_16['Net Time'].mean()"
   ]
  },
  {
   "cell_type": "code",
   "execution_count": 118,
   "metadata": {
    "collapsed": false
   },
   "outputs": [
    {
     "data": {
      "text/plain": [
       "2.8941988695965923"
      ]
     },
     "execution_count": 118,
     "metadata": {},
     "output_type": "execute_result"
    }
   ],
   "source": [
    "# The standard deviation of all of the values for 2016\n",
    "df_est_16['Net Time'].std()"
   ]
  },
  {
   "cell_type": "code",
   "execution_count": null,
   "metadata": {
    "collapsed": true
   },
   "outputs": [],
   "source": []
  }
 ],
 "metadata": {
  "kernelspec": {
   "display_name": "Python 3",
   "language": "python",
   "name": "python3"
  },
  "language_info": {
   "codemirror_mode": {
    "name": "ipython",
    "version": 3
   },
   "file_extension": ".py",
   "mimetype": "text/x-python",
   "name": "python",
   "nbconvert_exporter": "python",
   "pygments_lexer": "ipython3",
   "version": "3.5.1"
  }
 },
 "nbformat": 4,
 "nbformat_minor": 0
}
