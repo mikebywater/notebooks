{
 "cells": [
  {
   "cell_type": "markdown",
   "metadata": {},
   "source": [
    "### Introduction"
   ]
  },
  {
   "cell_type": "markdown",
   "metadata": {},
   "source": [
    "We have recently discussed the need to try and measure both production and efficency within the delivery team. The challenge is to try come up with a metric that we can use to determine if we are doing a better job of delivering work."
   ]
  },
  {
   "cell_type": "markdown",
   "metadata": {},
   "source": [
    "### Method"
   ]
  },
  {
   "cell_type": "markdown",
   "metadata": {},
   "source": [
    "This document is a python notebook I have created so that we can do some statistical analysis on a dataset from the callsheet system and try to find a reasonable metric to quantify production and efficiency.\n",
    "\n",
    "The challenge is that we are changing how we approach so many things, we are changing all obvious metrics at once. For example, if we had maintained our pricing methodology, it would be easy to define greater production merely by comparing the amount of money chargeable work has brought in. We could use the price to estimate work effort, more money would suggest a bigger job.\n",
    "\n",
    "We cannot really just look at total time logged as of course this will just go up with the new staff hired, it does not necessarily mean that they produced more useful work in that time period. \n",
    "\n",
    "With that in mind I have extracted 2 base reports from informer which I have ran for 3 seperate years (2014, 2015 and 2016) one of which is a detailed dataset of all of the callsheets and the other is aggregated data."
   ]
  },
  {
   "cell_type": "markdown",
   "metadata": {},
   "source": [
    "### Callsheets"
   ]
  },
  {
   "cell_type": "markdown",
   "metadata": {},
   "source": [
    "The simplest starting point is perhaps to just bring in some aggregated data for the 3 years in question and see some crude data for basic comparison. First lets import some libraries to help us work with this data."
   ]
  },
  {
   "cell_type": "code",
   "execution_count": 18,
   "metadata": {
    "collapsed": false
   },
   "outputs": [],
   "source": [
    "# Standard Imports\n",
    "import numpy as np\n",
    "import pandas as pd"
   ]
  },
  {
   "cell_type": "code",
   "execution_count": 19,
   "metadata": {
    "collapsed": false
   },
   "outputs": [],
   "source": [
    "# Stats Imports\n",
    "from scipy import stats"
   ]
  },
  {
   "cell_type": "code",
   "execution_count": 20,
   "metadata": {
    "collapsed": false
   },
   "outputs": [],
   "source": [
    "# Plotting\n",
    "import matplotlib as mpl\n",
    "import matplotlib.pyplot as plt\n",
    "import seaborn as sns"
   ]
  },
  {
   "cell_type": "code",
   "execution_count": 21,
   "metadata": {
    "collapsed": false
   },
   "outputs": [],
   "source": [
    "%matplotlib inline"
   ]
  },
  {
   "cell_type": "markdown",
   "metadata": {},
   "source": [
    "Next lets read in our first 3 datasets, the 2014 2015 and 2015 aggreagated data (by month) from some csv files create in informer. This data focuses just on stratum callsheet work. It excludes project callsheets as the majority are for milestone or money tracking only. Analysis of project work will be done later."
   ]
  },
  {
   "cell_type": "code",
   "execution_count": 22,
   "metadata": {
    "collapsed": false
   },
   "outputs": [],
   "source": [
    "cs_agg_2014_df = pd.read_csv('data/Callsheet Aggregates - 2014.csv')\n",
    "cs_agg_2015_df = pd.read_csv('data/Callsheet Aggregates - 2015.csv')\n",
    "cs_agg_2016_df = pd.read_csv('data/Callsheet Aggregates - 2016.csv')"
   ]
  },
  {
   "cell_type": "markdown",
   "metadata": {},
   "source": [
    "Now lets see an example of the aggregated data for 2014 in tabular format."
   ]
  },
  {
   "cell_type": "code",
   "execution_count": 23,
   "metadata": {
    "collapsed": false
   },
   "outputs": [
    {
     "data": {
      "text/html": [
       "<div>\n",
       "<table border=\"1\" class=\"dataframe\">\n",
       "  <thead>\n",
       "    <tr style=\"text-align: right;\">\n",
       "      <th></th>\n",
       "      <th>Closed Month</th>\n",
       "      <th>Time Hours Total (Total)</th>\n",
       "      <th>Time Hours Estimated (Total)</th>\n",
       "      <th>Quote Time (Total)</th>\n",
       "      <th>Count</th>\n",
       "    </tr>\n",
       "  </thead>\n",
       "  <tbody>\n",
       "    <tr>\n",
       "      <th>0</th>\n",
       "      <td>1</td>\n",
       "      <td>498.48</td>\n",
       "      <td>1</td>\n",
       "      <td>152</td>\n",
       "      <td>204</td>\n",
       "    </tr>\n",
       "    <tr>\n",
       "      <th>1</th>\n",
       "      <td>2</td>\n",
       "      <td>578.73</td>\n",
       "      <td>0</td>\n",
       "      <td>160</td>\n",
       "      <td>179</td>\n",
       "    </tr>\n",
       "    <tr>\n",
       "      <th>2</th>\n",
       "      <td>3</td>\n",
       "      <td>303.19</td>\n",
       "      <td>0</td>\n",
       "      <td>55</td>\n",
       "      <td>157</td>\n",
       "    </tr>\n",
       "    <tr>\n",
       "      <th>3</th>\n",
       "      <td>4</td>\n",
       "      <td>243.26</td>\n",
       "      <td>0</td>\n",
       "      <td>95</td>\n",
       "      <td>139</td>\n",
       "    </tr>\n",
       "    <tr>\n",
       "      <th>4</th>\n",
       "      <td>5</td>\n",
       "      <td>368.58</td>\n",
       "      <td>0</td>\n",
       "      <td>135</td>\n",
       "      <td>172</td>\n",
       "    </tr>\n",
       "    <tr>\n",
       "      <th>5</th>\n",
       "      <td>6</td>\n",
       "      <td>437.10</td>\n",
       "      <td>0</td>\n",
       "      <td>155</td>\n",
       "      <td>138</td>\n",
       "    </tr>\n",
       "    <tr>\n",
       "      <th>6</th>\n",
       "      <td>7</td>\n",
       "      <td>1011.67</td>\n",
       "      <td>0</td>\n",
       "      <td>81</td>\n",
       "      <td>138</td>\n",
       "    </tr>\n",
       "    <tr>\n",
       "      <th>7</th>\n",
       "      <td>8</td>\n",
       "      <td>216.22</td>\n",
       "      <td>0</td>\n",
       "      <td>53</td>\n",
       "      <td>184</td>\n",
       "    </tr>\n",
       "    <tr>\n",
       "      <th>8</th>\n",
       "      <td>9</td>\n",
       "      <td>261.65</td>\n",
       "      <td>0</td>\n",
       "      <td>260</td>\n",
       "      <td>184</td>\n",
       "    </tr>\n",
       "    <tr>\n",
       "      <th>9</th>\n",
       "      <td>10</td>\n",
       "      <td>1086.54</td>\n",
       "      <td>0</td>\n",
       "      <td>161</td>\n",
       "      <td>175</td>\n",
       "    </tr>\n",
       "    <tr>\n",
       "      <th>10</th>\n",
       "      <td>11</td>\n",
       "      <td>130.74</td>\n",
       "      <td>1</td>\n",
       "      <td>39</td>\n",
       "      <td>128</td>\n",
       "    </tr>\n",
       "    <tr>\n",
       "      <th>11</th>\n",
       "      <td>12</td>\n",
       "      <td>268.29</td>\n",
       "      <td>2</td>\n",
       "      <td>48</td>\n",
       "      <td>122</td>\n",
       "    </tr>\n",
       "  </tbody>\n",
       "</table>\n",
       "</div>"
      ],
      "text/plain": [
       "    Closed Month   Time Hours Total (Total)  Time Hours Estimated (Total)  \\\n",
       "0               1                    498.48                             1   \n",
       "1               2                    578.73                             0   \n",
       "2               3                    303.19                             0   \n",
       "3               4                    243.26                             0   \n",
       "4               5                    368.58                             0   \n",
       "5               6                    437.10                             0   \n",
       "6               7                   1011.67                             0   \n",
       "7               8                    216.22                             0   \n",
       "8               9                    261.65                             0   \n",
       "9              10                   1086.54                             0   \n",
       "10             11                    130.74                             1   \n",
       "11             12                    268.29                             2   \n",
       "\n",
       "    Quote Time (Total)  Count  \n",
       "0                  152    204  \n",
       "1                  160    179  \n",
       "2                   55    157  \n",
       "3                   95    139  \n",
       "4                  135    172  \n",
       "5                  155    138  \n",
       "6                   81    138  \n",
       "7                   53    184  \n",
       "8                  260    184  \n",
       "9                  161    175  \n",
       "10                  39    128  \n",
       "11                  48    122  "
      ]
     },
     "execution_count": 23,
     "metadata": {},
     "output_type": "execute_result"
    }
   ],
   "source": [
    "cs_agg_2014_df"
   ]
  },
  {
   "cell_type": "markdown",
   "metadata": {},
   "source": [
    "#### Comparison of Callsheets Closed"
   ]
  },
  {
   "cell_type": "markdown",
   "metadata": {},
   "source": [
    "We have similar data for 2015 and the first 2 months of 2016.  We can therefore simply compare the raw count of callsheets for each year by forming a simple bar chart of the information as follows."
   ]
  },
  {
   "cell_type": "code",
   "execution_count": 24,
   "metadata": {
    "collapsed": false,
    "format": "tab"
   },
   "outputs": [
    {
     "data": {
      "image/png": "[encoded data removed]",
      "text/plain": [
       "<matplotlib.figure.Figure at 0xba35780>"
      ]
     },
     "metadata": {},
     "output_type": "display_data"
    }
   ],
   "source": [
    "df14 = cs_agg_2014_df[['Count']]\n",
    "df15 = cs_agg_2015_df[['Count']]\n",
    "df16 = cs_agg_2016_df[['Count']]\n",
    "df = pd.concat([df14, df15, df16], axis=1, join='outer')\n",
    "df.columns = ['2014', '2015' , '2016']\n",
    "ax = df.plot(kind='bar' , figsize=(12, 8))\n",
    "ax.set_ylabel('Callsheets Closed')\n",
    "ax.set_xticklabels(('Jan', 'Feb', 'Mar', 'Apr', 'May' , 'Jun' , 'Jul' , 'Aug' , 'Sep' , 'Oct' , 'Nov' , 'Dec'));\n"
   ]
  },
  {
   "cell_type": "markdown",
   "metadata": {},
   "source": [
    "So just looking and pure number of callsheets we are, so far closing more calls tan at the same point in the previous 2 years. We are still straining our 3 new developers so I would expect this to improve steadily over the next 3 - 6 months.\n",
    "\n",
    "This alone though is again, is not the full picture, how do we know these callsheets were a similar amount of work as previous years ?"
   ]
  },
  {
   "cell_type": "markdown",
   "metadata": {},
   "source": [
    "#### Comparison of Callsheets Total Hours at Completion"
   ]
  },
  {
   "cell_type": "markdown",
   "metadata": {},
   "source": [
    "What might be nice is to see that the estimates of work effort to complete these jobs has also gone up. eg. We have completed more callsheets than ever before and they were also of similar difficulty, therefore, more work done in total. Unfortunately the estimation data recorded ranges between sparse and none existent, particularly prior to 2016. So the next thing I looked at was total time spent on callsheets at the point of completion."
   ]
  },
  {
   "cell_type": "code",
   "execution_count": 25,
   "metadata": {
    "collapsed": false,
    "format": "tab",
    "scrolled": false
   },
   "outputs": [
    {
     "data": {
      "image/png": "[encoded data removed]",
      "text/plain": [
       "<matplotlib.figure.Figure at 0xba35438>"
      ]
     },
     "metadata": {},
     "output_type": "display_data"
    }
   ],
   "source": [
    "df14 = cs_agg_2014_df[['Time Hours Total (Total)']]\n",
    "df15 = cs_agg_2015_df[['Time Hours Total (Total)']]\n",
    "df16 = cs_agg_2016_df[['Time Hours Total (Total)']]\n",
    "df = pd.concat([df14, df15, df16], axis=1, join='outer')\n",
    "df.columns = ['2014', '2015' , '2016']\n",
    "ax = df.plot(kind='bar' , figsize=(12, 8))\n",
    "ax.set_ylabel('Callsheets Hours Worked')\n",
    "ax.set_xticklabels(('Jan', 'Feb', 'Mar', 'Apr', 'May' , 'Jun' , 'Jul' , 'Aug' , 'Sep' , 'Oct' , 'Nov' , 'Dec'));"
   ]
  },
  {
   "cell_type": "markdown",
   "metadata": {},
   "source": [
    "We can see that so far we are spending a similar amount of time on callsheets we have closed, (although february looks low the month is still not complete). This suggests that we are euther more efficient in closing the callsheets faster with less effort, or the callsheets were for smaller jobs, again accurate estimate recording here would help shed some light if we had it. As we have not another it is worth looking at quotable work."
   ]
  },
  {
   "cell_type": "markdown",
   "metadata": {},
   "source": [
    "#### Comparison of Quotable Work"
   ]
  },
  {
   "cell_type": "markdown",
   "metadata": {},
   "source": [
    "How much are we closing that we have estimated and quoted a time for. We now that projects have dominated where we spend our effort, but has that caused a hit on qutable callsheet work ?"
   ]
  },
  {
   "cell_type": "code",
   "execution_count": 26,
   "metadata": {
    "collapsed": false,
    "format": "tab"
   },
   "outputs": [
    {
     "data": {
      "image/png": "[encoded data removed]",
      "text/plain": [
       "<matplotlib.figure.Figure at 0xc78d198>"
      ]
     },
     "metadata": {},
     "output_type": "display_data"
    }
   ],
   "source": [
    "df14 = cs_agg_2014_df[['Quote Time (Total)']]\n",
    "df15 = cs_agg_2015_df[['Quote Time (Total)']]\n",
    "df16 = cs_agg_2016_df[['Quote Time (Total)']]\n",
    "df = pd.concat([df14, df15, df16], axis=1, join='outer')\n",
    "df.columns = ['2014', '2015' , '2016']\n",
    "ax = df.plot(kind='bar' , figsize=(12, 8))\n",
    "ax.set_ylabel('Quoted Hours')\n",
    "ax.set_xticklabels(('Jan', 'Feb', 'Mar', 'Apr', 'May' , 'Jun' , 'Jul' , 'Aug' , 'Sep' , 'Oct' , 'Nov' , 'Dec'));"
   ]
  },
  {
   "cell_type": "markdown",
   "metadata": {},
   "source": [
    "Whilst it is too early to say for 2016 it certainly appears there has been an overall drop off from 2014 in quoted, chargeable callsheet only work. This either suggests that, again, despite completing a higher amount of calls we are not completing as much work. But on inspection of the calls themslves it seems that we are increasingly chrgiang a fee (module price for example) rather than a quoted time, which is a good thing, but could account for the disparity so I think quotable time should be avoided as a metric."
   ]
  },
  {
   "cell_type": "markdown",
   "metadata": {},
   "source": [
    "#### Callsheet Duration"
   ]
  },
  {
   "cell_type": "markdown",
   "metadata": {},
   "source": [
    "We have, so far, seen some evidence that we are dealing with a higher volume of work. And we have seen some suggestion we may be doing this while being more efficient. One of the criticisms we have had surrounding efficiency is the length of time some callsheets have taken. A logical thing for us to look at would be the duration of callsheets. Initially we will look at how long a call was 'with APT' as it is the area we can directly control, and is perhaps the best indicator of our capacity to fit work in and deal with it efficiently.In future however it may be worth looking at the total duration as this will give an insight on our ability to control a customer.\n",
    "\n",
    "The data we will use for this, will be the detailed yearly data downloaded from informer. Below is a sample of the type of information it contains."
   ]
  },
  {
   "cell_type": "code",
   "execution_count": 27,
   "metadata": {
    "collapsed": false,
    "format": "tab"
   },
   "outputs": [
    {
     "data": {
      "text/html": [
       "<div>\n",
       "<table border=\"1\" class=\"dataframe\">\n",
       "  <thead>\n",
       "    <tr style=\"text-align: right;\">\n",
       "      <th></th>\n",
       "      <th>Call No</th>\n",
       "      <th>Closed Date</th>\n",
       "      <th>Chargeable</th>\n",
       "      <th>Days With APT</th>\n",
       "      <th>Project Work</th>\n",
       "      <th>Quote Time</th>\n",
       "      <th>Time Hours Estimated</th>\n",
       "      <th>Time Hours Total</th>\n",
       "    </tr>\n",
       "  </thead>\n",
       "  <tbody>\n",
       "    <tr>\n",
       "      <th>0</th>\n",
       "      <td>158465</td>\n",
       "      <td>21 Jan 2016</td>\n",
       "      <td>U</td>\n",
       "      <td>767</td>\n",
       "      <td>NaN</td>\n",
       "      <td>0</td>\n",
       "      <td>0</td>\n",
       "      <td>0.00</td>\n",
       "    </tr>\n",
       "    <tr>\n",
       "      <th>1</th>\n",
       "      <td>160492</td>\n",
       "      <td>25 Jan 2016</td>\n",
       "      <td>N</td>\n",
       "      <td>636</td>\n",
       "      <td>N</td>\n",
       "      <td>0</td>\n",
       "      <td>0</td>\n",
       "      <td>0.33</td>\n",
       "    </tr>\n",
       "    <tr>\n",
       "      <th>2</th>\n",
       "      <td>161192</td>\n",
       "      <td>4 Jan 2016</td>\n",
       "      <td>Y</td>\n",
       "      <td>587</td>\n",
       "      <td>Y</td>\n",
       "      <td>0</td>\n",
       "      <td>0</td>\n",
       "      <td>0.00</td>\n",
       "    </tr>\n",
       "    <tr>\n",
       "      <th>3</th>\n",
       "      <td>162852</td>\n",
       "      <td>22 Jan 2016</td>\n",
       "      <td>U</td>\n",
       "      <td>351</td>\n",
       "      <td>N</td>\n",
       "      <td>0</td>\n",
       "      <td>0</td>\n",
       "      <td>79.07</td>\n",
       "    </tr>\n",
       "    <tr>\n",
       "      <th>4</th>\n",
       "      <td>163136</td>\n",
       "      <td>4 Jan 2016</td>\n",
       "      <td>R</td>\n",
       "      <td>82</td>\n",
       "      <td>NaN</td>\n",
       "      <td>4</td>\n",
       "      <td>2</td>\n",
       "      <td>2.98</td>\n",
       "    </tr>\n",
       "    <tr>\n",
       "      <th>5</th>\n",
       "      <td>163770</td>\n",
       "      <td>1 Feb 2016</td>\n",
       "      <td>Y</td>\n",
       "      <td>266</td>\n",
       "      <td>N</td>\n",
       "      <td>29</td>\n",
       "      <td>0</td>\n",
       "      <td>51.10</td>\n",
       "    </tr>\n",
       "    <tr>\n",
       "      <th>6</th>\n",
       "      <td>164110</td>\n",
       "      <td>17 Feb 2016</td>\n",
       "      <td>N</td>\n",
       "      <td>348</td>\n",
       "      <td>N</td>\n",
       "      <td>0</td>\n",
       "      <td>5</td>\n",
       "      <td>11.39</td>\n",
       "    </tr>\n",
       "    <tr>\n",
       "      <th>7</th>\n",
       "      <td>164153</td>\n",
       "      <td>21 Jan 2016</td>\n",
       "      <td>N</td>\n",
       "      <td>382</td>\n",
       "      <td>N</td>\n",
       "      <td>0</td>\n",
       "      <td>0</td>\n",
       "      <td>0.25</td>\n",
       "    </tr>\n",
       "    <tr>\n",
       "      <th>8</th>\n",
       "      <td>164192</td>\n",
       "      <td>1 Feb 2016</td>\n",
       "      <td>N</td>\n",
       "      <td>382</td>\n",
       "      <td>N</td>\n",
       "      <td>0</td>\n",
       "      <td>0</td>\n",
       "      <td>2.25</td>\n",
       "    </tr>\n",
       "    <tr>\n",
       "      <th>9</th>\n",
       "      <td>164332</td>\n",
       "      <td>25 Jan 2016</td>\n",
       "      <td>N</td>\n",
       "      <td>368</td>\n",
       "      <td>NaN</td>\n",
       "      <td>0</td>\n",
       "      <td>0</td>\n",
       "      <td>0.00</td>\n",
       "    </tr>\n",
       "  </tbody>\n",
       "</table>\n",
       "</div>"
      ],
      "text/plain": [
       "   Call No  Closed Date Chargeable  Days With APT Project Work  Quote Time  \\\n",
       "0   158465  21 Jan 2016          U            767          NaN           0   \n",
       "1   160492  25 Jan 2016          N            636            N           0   \n",
       "2   161192   4 Jan 2016          Y            587            Y           0   \n",
       "3   162852  22 Jan 2016          U            351            N           0   \n",
       "4   163136   4 Jan 2016          R             82          NaN           4   \n",
       "5   163770   1 Feb 2016          Y            266            N          29   \n",
       "6   164110  17 Feb 2016          N            348            N           0   \n",
       "7   164153  21 Jan 2016          N            382            N           0   \n",
       "8   164192   1 Feb 2016          N            382            N           0   \n",
       "9   164332  25 Jan 2016          N            368          NaN           0   \n",
       "\n",
       "   Time Hours Estimated  Time Hours Total  \n",
       "0                     0              0.00  \n",
       "1                     0              0.33  \n",
       "2                     0              0.00  \n",
       "3                     0             79.07  \n",
       "4                     2              2.98  \n",
       "5                     0             51.10  \n",
       "6                     5             11.39  \n",
       "7                     0              0.25  \n",
       "8                     0              2.25  \n",
       "9                     0              0.00  "
      ]
     },
     "execution_count": 27,
     "metadata": {},
     "output_type": "execute_result"
    }
   ],
   "source": [
    "dtl_2014_df = pd.read_csv('data/Callsheet Detail - 2014.csv')\n",
    "dtl_2015_df = pd.read_csv('data/Callsheet Detail - 2015.csv')\n",
    "dtl_2016_df = pd.read_csv('data/Callsheet Detail - 2016.csv')\n",
    "dtl_2016_df.head(10)"
   ]
  },
  {
   "cell_type": "markdown",
   "metadata": {},
   "source": [
    "We will look specifically at the 'Days with APT' column and we will use a histogram to map the data.This will give us a sense of the distribution of "
   ]
  },
  {
   "cell_type": "code",
   "execution_count": 28,
   "metadata": {
    "collapsed": false,
    "format": "tab"
   },
   "outputs": [
    {
     "data": {
      "image/png": "[encoded data removed]",
      "text/plain": [
       "<matplotlib.figure.Figure at 0xb76e780>"
      ]
     },
     "metadata": {},
     "output_type": "display_data"
    }
   ],
   "source": [
    "cs_dtl_2014_df = dtl_2014_df[dtl_2014_df['Project Work'] != 'Y']\n",
    "cs_days_with_apt_2014 = cs_dtl_2014_df['Days With APT']\n",
    "ax = cs_days_with_apt_2014.plot(kind='hist' , figsize=(12, 4), bins=30);\n",
    "ax.set_title('2014');\n"
   ]
  },
  {
   "cell_type": "code",
   "execution_count": 29,
   "metadata": {
    "collapsed": false,
    "format": "tab"
   },
   "outputs": [
    {
     "data": {
      "image/png": "[encoded data removed]",
      "text/plain": [
       "<matplotlib.figure.Figure at 0xc74ecf8>"
      ]
     },
     "metadata": {},
     "output_type": "display_data"
    }
   ],
   "source": [
    "cs_dtl_2015_df = dtl_2015_df[dtl_2015_df['Project Work'] != 'Y']\n",
    "cs_dtl_2015_df = cs_dtl_2015_df[cs_dtl_2015_df['Days With APT'] >= 0] # fix as there where some -1 values\n",
    "cs_days_with_apt_2015 = cs_dtl_2015_df['Days With APT']\n",
    "ax = cs_days_with_apt_2015.plot(kind='hist' , figsize=(12, 4), bins=30, color = 'green');\n",
    "ax.set_title('2015');\n"
   ]
  },
  {
   "cell_type": "code",
   "execution_count": 30,
   "metadata": {
    "collapsed": false,
    "format": "tab"
   },
   "outputs": [
    {
     "data": {
      "image/png": "[encoded data removed]",
      "text/plain": [
       "<matplotlib.figure.Figure at 0xc0a0438>"
      ]
     },
     "metadata": {},
     "output_type": "display_data"
    }
   ],
   "source": [
    "cs_dtl_2016_df = dtl_2016_df[dtl_2016_df['Project Work'] != 'Y']\n",
    "# cs_dtl_2015_df = cs_dtl_2015_df[cs_dtl_2015_df['Days With APT'] >= 0] # fix as there where some -1 values\n",
    "cs_days_with_apt_2016 = cs_dtl_2016_df['Days With APT']\n",
    "ax = cs_days_with_apt_2016.plot(kind='hist' , figsize=(12, 4), bins=30, color = 'red');\n",
    "ax.set_title('2016');"
   ]
  },
  {
   "cell_type": "markdown",
   "metadata": {},
   "source": [
    "We can see that we are completing the vast number of callsheets in a shorth amount in every calendar year, with some horrible outliers that will need investigation. This only gives us a general sense though, we have differing numbers of datapoints and the scales of these histograms is different. The next step is to overlay them and see if we can see anything that will tell us anything about our performance. For clarity we will remove any extreme outliers and normalize the data to account for the differences in data points."
   ]
  },
  {
   "cell_type": "code",
   "execution_count": 47,
   "metadata": {
    "collapsed": false,
    "format": "tab",
    "scrolled": false
   },
   "outputs": [
    {
     "data": {
      "image/png": "[encoded data removed]",
      "text/plain": [
       "<matplotlib.figure.Figure at 0xc7627b8>"
      ]
     },
     "metadata": {},
     "output_type": "display_data"
    }
   ],
   "source": [
    "cs_dtl_2014_df = cs_dtl_2014_df[cs_dtl_2014_df['Days With APT'] < 600]\n",
    "cs_days_with_apt_2014 = cs_dtl_2014_df['Days With APT']\n",
    "cs_dtl_2015_df = cs_dtl_2015_df[cs_dtl_2015_df['Days With APT'] < 600]\n",
    "cs_days_with_apt_2015 = cs_dtl_2015_df['Days With APT']\n",
    "cs_dtl_2016_df = cs_dtl_2016_df[cs_dtl_2016_df['Days With APT'] < 600]\n",
    "cs_days_with_apt_2016 = cs_dtl_2016_df['Days With APT']\n",
    "plt.figure(figsize=(18, 8));\n",
    "binBoundaries = np.linspace(0,600,100)\n",
    "plt.hist(cs_days_with_apt_2014, color='blue' , normed = True , alpha = 0.2 ,bins = binBoundaries);\n",
    "plt.hist(cs_days_with_apt_2015, color='green' , normed = True , alpha = 0.5 ,bins = binBoundaries);\n",
    "\n"
   ]
  },
  {
   "cell_type": "markdown",
   "metadata": {},
   "source": [
    "The above data compares 2014 and 2015, it suggests that there was a greater density of callsheets completed after only being with APT a few days in 2014, and you can see more calls in 2015 creeping on for a very long amount of time. This suggests we were deterioating in the service we were providing."
   ]
  },
  {
   "cell_type": "code",
   "execution_count": 44,
   "metadata": {
    "collapsed": false,
    "format": "tab"
   },
   "outputs": [
    {
     "data": {
      "image/png": "[encoded data removed]",
      "text/plain": [
       "<matplotlib.figure.Figure at 0xcfa08d0>"
      ]
     },
     "metadata": {},
     "output_type": "display_data"
    }
   ],
   "source": [
    "plt.figure(figsize=(18, 8));\n",
    "plt.hist(cs_days_with_apt_2015, color='green' , normed = True , alpha = 0.5 ,bins = binBoundaries);\n",
    "plt.hist(cs_days_with_apt_2016, color='red' , normed = True , alpha = 0.5 ,bins = binBoundaries);\n"
   ]
  },
  {
   "cell_type": "markdown",
   "metadata": {},
   "source": [
    "However in the comparison between 2016 and 2015 it looks like we have corrcted this issue, we are tackling even more calls in those first few days. However there are still some high densities in the mid-term. This looks positive, however it is early in the year the sample size is small and all of this relates to *closed* calls. There could be a lot of open calls sat with us, that we close over the coming months that skew this. The data may suggest we are dealing with simple callsheets quickly but more complex callsheets are lingering longer than before."
   ]
  },
  {
   "cell_type": "markdown",
   "metadata": {},
   "source": [
    "### Projects"
   ]
  },
  {
   "cell_type": "markdown",
   "metadata": {},
   "source": [
    "The project data is a little harder to analyse. But we can start again, as before, by just looking at the raw number of callsheets we have closed."
   ]
  },
  {
   "cell_type": "markdown",
   "metadata": {},
   "source": [
    "#### Comparison of Project Callsheets Closed"
   ]
  },
  {
   "cell_type": "code",
   "execution_count": 33,
   "metadata": {
    "collapsed": false,
    "format": "tab"
   },
   "outputs": [
    {
     "data": {
      "image/png": "[encoded data removed]",
      "text/plain": [
       "<matplotlib.figure.Figure at 0xc062a20>"
      ]
     },
     "metadata": {},
     "output_type": "display_data"
    }
   ],
   "source": [
    "p_agg_2014_df = pd.read_csv('data/Project Aggregates - 2014.csv')\n",
    "p_agg_2015_df = pd.read_csv('data/Project Aggregates - 2015.csv')\n",
    "p_agg_2016_df = pd.read_csv('data/Project Aggregates - 2016.csv')\n",
    "df14 = p_agg_2014_df[['Count']]\n",
    "df15 = p_agg_2015_df[['Count']]\n",
    "df16 = p_agg_2016_df[['Count']]\n",
    "df = pd.concat([df14, df15, df16], axis=1, join='outer')\n",
    "df.columns = ['2014', '2015' , '2016']\n",
    "ax = df.plot(kind='bar' , figsize=(12, 8))\n",
    "ax.set_ylabel('Project Calls Closed')\n",
    "ax.set_xticklabels(('Jan', 'Feb', 'Mar', 'Apr', 'May' , 'Jun' , 'Jul' , 'Aug' , 'Sep' , 'Oct' , 'Nov' , 'Dec'));"
   ]
  },
  {
   "cell_type": "markdown",
   "metadata": {},
   "source": [
    "As we can see the numbers fluctuate a lot and we are not closing as many calls of type \"Project\" as in previous years. However so much of what we do is now in jira, the way we use callsheets for projects has reduced the need for most callsheets around projects, the volume of the callsheets, outside of the master callsheet and certain milestone calls, is predominantly for training days or other charge tracking. The volume of these calls isnt descriptive of the amount of project work we are doing particularly in comparison to other years, so for projects, cannot really be used as a metric."
   ]
  },
  {
   "cell_type": "markdown",
   "metadata": {},
   "source": [
    "#### Comparison of Project Callsheets Total Hours at Completion"
   ]
  },
  {
   "cell_type": "code",
   "execution_count": 34,
   "metadata": {
    "collapsed": false,
    "format": "tab"
   },
   "outputs": [
    {
     "data": {
      "image/png": "[encoded data removed]",
      "text/plain": [
       "<matplotlib.figure.Figure at 0xc3af898>"
      ]
     },
     "metadata": {},
     "output_type": "display_data"
    }
   ],
   "source": [
    "df14 = p_agg_2014_df[['Time Hours Total (Total)']]\n",
    "df15 = p_agg_2015_df[['Time Hours Total (Total)']]\n",
    "df16 = p_agg_2016_df[['Time Hours Total (Total)']]\n",
    "df = pd.concat([df14, df15, df16], axis=1, join='outer')\n",
    "df.columns = ['2014', '2015' , '2016']\n",
    "ax = df.plot(kind='bar' , figsize=(12, 8))\n",
    "ax.set_ylabel('Project Call Hours Worked')\n",
    "ax.set_xticklabels(('Jan', 'Feb', 'Mar', 'Apr', 'May' , 'Jun' , 'Jul' , 'Aug' , 'Sep' , 'Oct' , 'Nov' , 'Dec'));"
   ]
  },
  {
   "cell_type": "markdown",
   "metadata": {},
   "source": [
    "Time worked is possibly even worse, particularly looking month by month. The callsheets are open for such a long period of time it forces peaks at the point of closure. It would be far better to look at the amount of project hours logged in timesheets month on month.\n",
    "\n",
    "Similarly, the vast majority of callsheets logged for projects are for charging purposes only and are closed immediately. But the master callsheet will be open for the duration of the project. The analysis of the length of time these calls are open overall will not tell us anything."
   ]
  },
  {
   "cell_type": "markdown",
   "metadata": {},
   "source": [
    "### Conclusion"
   ]
  },
  {
   "cell_type": "markdown",
   "metadata": {},
   "source": [
    "In conclusion I think we have found a reasonable way of measuring how we are dealing with callsheets. We will use the 'Comparison of Callsheets Closed' to determine our production , we will ensure we are supplying a good customer service using the 'Callsheet Duration' histograms.\n",
    "\n",
    "For projects I think we need to look at raw project hours completed, and also look to have callsheets for the milestones and for master callsheet that have both estimates and accurate time logged. We will need to be able to isolate these from all other callsheets project or otherwise. If we are confident in our estimates we can then use this data as the metric of \"quantity\" of project work completed, and by having it at milestone level we should get more datapoints than just looking at when master calls close.\n",
    "\n",
    "Until this data is collected however the best we can probably do is simply use the time logged on project calls each month to determine the capacity we have to do project work (even though it could be spent inefficiently). \n",
    "\n",
    "By looking to see a consitent level of throughput is maintained on callsheets, and seeing that more time is logged against projects than previously, we can be confident our throughput overall has improved.\n",
    "\n",
    "If we see a dip in the callsheet metrics or we are having to sacrifice project time logged compared to previous years to maintain a level then we will cannt consider that our production has improved."
   ]
  }
 ],
 "metadata": {
  "kernelspec": {
   "display_name": "Python 3",
   "language": "python",
   "name": "python3"
  },
  "language_info": {
   "codemirror_mode": {
    "name": "ipython",
    "version": 3
   },
   "file_extension": ".py",
   "mimetype": "text/x-python",
   "name": "python",
   "nbconvert_exporter": "python",
   "pygments_lexer": "ipython3",
   "version": "3.5.1"
  }
 },
 "nbformat": 4,
 "nbformat_minor": 0
}
